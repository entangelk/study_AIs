{
 "cells": [
  {
   "cell_type": "code",
   "execution_count": 1,
   "metadata": {},
   "outputs": [],
   "source": [
    "import numpy as np\n",
    "import pandas as pd\n",
    "import matplotlib.pyplot as plt\n",
    "import seaborn as sns"
   ]
  },
  {
   "cell_type": "code",
   "execution_count": 2,
   "metadata": {},
   "outputs": [
    {
     "data": {
      "text/plain": [
       "(2645, 5)"
      ]
     },
     "execution_count": 2,
     "metadata": {},
     "output_type": "execute_result"
    }
   ],
   "source": [
    "df =pd.read_csv(\"https://bit.ly/seoul-120-text-csv\")\n",
    "df.shape"
   ]
  },
  {
   "cell_type": "code",
   "execution_count": 3,
   "metadata": {},
   "outputs": [
    {
     "data": {
      "text/html": [
       "<div>\n",
       "<style scoped>\n",
       "    .dataframe tbody tr th:only-of-type {\n",
       "        vertical-align: middle;\n",
       "    }\n",
       "\n",
       "    .dataframe tbody tr th {\n",
       "        vertical-align: top;\n",
       "    }\n",
       "\n",
       "    .dataframe thead th {\n",
       "        text-align: right;\n",
       "    }\n",
       "</style>\n",
       "<table border=\"1\" class=\"dataframe\">\n",
       "  <thead>\n",
       "    <tr style=\"text-align: right;\">\n",
       "      <th></th>\n",
       "      <th>번호</th>\n",
       "      <th>분류</th>\n",
       "      <th>제목</th>\n",
       "      <th>내용</th>\n",
       "      <th>내용번호</th>\n",
       "      <th>문서</th>\n",
       "    </tr>\n",
       "  </thead>\n",
       "  <tbody>\n",
       "    <tr>\n",
       "      <th>0</th>\n",
       "      <td>2645</td>\n",
       "      <td>복지</td>\n",
       "      <td>아빠 육아휴직 장려금</td>\n",
       "      <td>아빠 육아휴직 장려금   업무개요  남성근로자의 육아휴직을 장려하고 양육에 따른 경...</td>\n",
       "      <td>23522464</td>\n",
       "      <td>아빠 육아휴직 장려금아빠 육아휴직 장려금   업무개요  남성근로자의 육아휴직을 장려...</td>\n",
       "    </tr>\n",
       "    <tr>\n",
       "      <th>1</th>\n",
       "      <td>2644</td>\n",
       "      <td>경제</td>\n",
       "      <td>[서울산업진흥원] 서울메이드란?</td>\n",
       "      <td>서울산업진흥원 서울메이드란 서울의 감성을 담은 다양하고 새로운 경험을 제공하기 위해...</td>\n",
       "      <td>23194045</td>\n",
       "      <td>[서울산업진흥원] 서울메이드란?서울산업진흥원 서울메이드란 서울의 감성을 담은 다양하...</td>\n",
       "    </tr>\n",
       "    <tr>\n",
       "      <th>2</th>\n",
       "      <td>2643</td>\n",
       "      <td>환경</td>\n",
       "      <td>(강북구) 정비중</td>\n",
       "      <td>강북구 정비중  업무개요  투명 폐트병을 교환보상하므로 수거율을 높이고 폐기물을 감...</td>\n",
       "      <td>23032485</td>\n",
       "      <td>(강북구) 정비중강북구 정비중  업무개요  투명 폐트병을 교환보상하므로 수거율을 높...</td>\n",
       "    </tr>\n",
       "  </tbody>\n",
       "</table>\n",
       "</div>"
      ],
      "text/plain": [
       "     번호  분류                 제목  \\\n",
       "0  2645  복지        아빠 육아휴직 장려금   \n",
       "1  2644  경제  [서울산업진흥원] 서울메이드란?   \n",
       "2  2643  환경          (강북구) 정비중   \n",
       "\n",
       "                                                  내용      내용번호  \\\n",
       "0  아빠 육아휴직 장려금   업무개요  남성근로자의 육아휴직을 장려하고 양육에 따른 경...  23522464   \n",
       "1  서울산업진흥원 서울메이드란 서울의 감성을 담은 다양하고 새로운 경험을 제공하기 위해...  23194045   \n",
       "2  강북구 정비중  업무개요  투명 폐트병을 교환보상하므로 수거율을 높이고 폐기물을 감...  23032485   \n",
       "\n",
       "                                                  문서  \n",
       "0  아빠 육아휴직 장려금아빠 육아휴직 장려금   업무개요  남성근로자의 육아휴직을 장려...  \n",
       "1  [서울산업진흥원] 서울메이드란?서울산업진흥원 서울메이드란 서울의 감성을 담은 다양하...  \n",
       "2  (강북구) 정비중강북구 정비중  업무개요  투명 폐트병을 교환보상하므로 수거율을 높...  "
      ]
     },
     "execution_count": 3,
     "metadata": {},
     "output_type": "execute_result"
    }
   ],
   "source": [
    "df['문서'] = df['제목'] + df['내용']\n",
    "df.head(3)"
   ]
  },
  {
   "cell_type": "code",
   "execution_count": 4,
   "metadata": {},
   "outputs": [
    {
     "data": {
      "text/plain": [
       "분류\n",
       "행정        1098\n",
       "경제         823\n",
       "복지         217\n",
       "환경         124\n",
       "주택도시계획     110\n",
       "문화관광        96\n",
       "교통          90\n",
       "안전          51\n",
       "건강          23\n",
       "여성가족        13\n",
       "Name: count, dtype: int64"
      ]
     },
     "execution_count": 4,
     "metadata": {},
     "output_type": "execute_result"
    }
   ],
   "source": [
    "df['분류'].value_counts()"
   ]
  },
  {
   "cell_type": "code",
   "execution_count": 5,
   "metadata": {},
   "outputs": [
    {
     "data": {
      "text/html": [
       "<div>\n",
       "<style scoped>\n",
       "    .dataframe tbody tr th:only-of-type {\n",
       "        vertical-align: middle;\n",
       "    }\n",
       "\n",
       "    .dataframe tbody tr th {\n",
       "        vertical-align: top;\n",
       "    }\n",
       "\n",
       "    .dataframe thead th {\n",
       "        text-align: right;\n",
       "    }\n",
       "</style>\n",
       "<table border=\"1\" class=\"dataframe\">\n",
       "  <thead>\n",
       "    <tr style=\"text-align: right;\">\n",
       "      <th></th>\n",
       "      <th>번호</th>\n",
       "      <th>분류</th>\n",
       "      <th>제목</th>\n",
       "      <th>내용</th>\n",
       "      <th>내용번호</th>\n",
       "      <th>문서</th>\n",
       "    </tr>\n",
       "  </thead>\n",
       "  <tbody>\n",
       "    <tr>\n",
       "      <th>0</th>\n",
       "      <td>2645</td>\n",
       "      <td>복지</td>\n",
       "      <td>아빠 육아휴직 장려금</td>\n",
       "      <td>아빠 육아휴직 장려금   업무개요  남성근로자의 육아휴직을 장려하고 양육에 따른 경...</td>\n",
       "      <td>23522464</td>\n",
       "      <td>아빠 육아휴직 장려금아빠 육아휴직 장려금   업무개요  남성근로자의 육아휴직을 장려...</td>\n",
       "    </tr>\n",
       "    <tr>\n",
       "      <th>1</th>\n",
       "      <td>2644</td>\n",
       "      <td>경제</td>\n",
       "      <td>[서울산업진흥원] 서울메이드란?</td>\n",
       "      <td>서울산업진흥원 서울메이드란 서울의 감성을 담은 다양하고 새로운 경험을 제공하기 위해...</td>\n",
       "      <td>23194045</td>\n",
       "      <td>[서울산업진흥원] 서울메이드란?서울산업진흥원 서울메이드란 서울의 감성을 담은 다양하...</td>\n",
       "    </tr>\n",
       "    <tr>\n",
       "      <th>3</th>\n",
       "      <td>2642</td>\n",
       "      <td>복지</td>\n",
       "      <td>광진맘택시 운영(임산부,영아 양육가정 전용 택시)</td>\n",
       "      <td>광진맘택시 운영임산부영아 양육가정 전용 택시  업무개요 교통약자인 임산부와 영아가정...</td>\n",
       "      <td>22904492</td>\n",
       "      <td>광진맘택시 운영(임산부,영아 양육가정 전용 택시)광진맘택시 운영임산부영아 양육가정 ...</td>\n",
       "    </tr>\n",
       "    <tr>\n",
       "      <th>4</th>\n",
       "      <td>2641</td>\n",
       "      <td>복지</td>\n",
       "      <td>마포 뇌병변장애인 비전센터</td>\n",
       "      <td>마포 뇌병변장애인 비전센터 마포뇌병변장애인 비전센터 운영   구분 내용  목적  학...</td>\n",
       "      <td>22477798</td>\n",
       "      <td>마포 뇌병변장애인 비전센터마포 뇌병변장애인 비전센터 마포뇌병변장애인 비전센터 운영 ...</td>\n",
       "    </tr>\n",
       "    <tr>\n",
       "      <th>5</th>\n",
       "      <td>2640</td>\n",
       "      <td>행정</td>\n",
       "      <td>2021년도 중1·고1 신입생 입학준비금 지원</td>\n",
       "      <td>년도 중고 신입생 입학준비금 지원  업무개요  서울시는 전국 최초로 년도부터 개 자...</td>\n",
       "      <td>22227896</td>\n",
       "      <td>2021년도 중1·고1 신입생 입학준비금 지원년도 중고 신입생 입학준비금 지원  업...</td>\n",
       "    </tr>\n",
       "    <tr>\n",
       "      <th>...</th>\n",
       "      <td>...</td>\n",
       "      <td>...</td>\n",
       "      <td>...</td>\n",
       "      <td>...</td>\n",
       "      <td>...</td>\n",
       "      <td>...</td>\n",
       "    </tr>\n",
       "    <tr>\n",
       "      <th>2633</th>\n",
       "      <td>12</td>\n",
       "      <td>경제</td>\n",
       "      <td>농산물소득분석 자료를 열람하고자 하는데 가능한가요?</td>\n",
       "      <td>농산물소득분석 자료를 열람하고자 하는데 가능한가요 예 가능하십니다    농촌진흥청 ...</td>\n",
       "      <td>2896820</td>\n",
       "      <td>농산물소득분석 자료를 열람하고자 하는데 가능한가요?농산물소득분석 자료를 열람하고자 ...</td>\n",
       "    </tr>\n",
       "    <tr>\n",
       "      <th>2637</th>\n",
       "      <td>8</td>\n",
       "      <td>행정</td>\n",
       "      <td>제가 휠체어를 사용하여야 하는 장애인인데 교육원에서 교육을 받을 수 있나요?</td>\n",
       "      <td>제가 휠체어를 사용하여야 하는 장애인인데 교육원에서 교육을 받을 수 있나요  우리교...</td>\n",
       "      <td>2894409</td>\n",
       "      <td>제가 휠체어를 사용하여야 하는 장애인인데 교육원에서 교육을 받을 수 있나요?제가 휠...</td>\n",
       "    </tr>\n",
       "    <tr>\n",
       "      <th>2638</th>\n",
       "      <td>7</td>\n",
       "      <td>행정</td>\n",
       "      <td>투자심사위원회는 어떻게 구성되어 있습니까?</td>\n",
       "      <td>투자심사위원회는 어떻게 구성되어 있습니까지방재정법시행령 제조항의 규정에 의한 서울특...</td>\n",
       "      <td>2898595</td>\n",
       "      <td>투자심사위원회는 어떻게 구성되어 있습니까?투자심사위원회는 어떻게 구성되어 있습니까지...</td>\n",
       "    </tr>\n",
       "    <tr>\n",
       "      <th>2639</th>\n",
       "      <td>6</td>\n",
       "      <td>행정</td>\n",
       "      <td>홈페이지를 구축해서 운영을 하려고 하는데 서버를 어떻게 사용할 수 있나요?</td>\n",
       "      <td>홈페이지를 구축해서 운영을 하려고 하는데 서버를 어떻게 사용할 수 있나요 홈페이지의...</td>\n",
       "      <td>2894434</td>\n",
       "      <td>홈페이지를 구축해서 운영을 하려고 하는데 서버를 어떻게 사용할 수 있나요?홈페이지를...</td>\n",
       "    </tr>\n",
       "    <tr>\n",
       "      <th>2642</th>\n",
       "      <td>3</td>\n",
       "      <td>복지</td>\n",
       "      <td>출산휴가후 집근처에 안심하고 맡길 수 있는 어린이집이 있는지?</td>\n",
       "      <td>출산휴가후 집근처에 안심하고 맡길 수 있는 어린이집이 있는지   서울시 육아종합지원...</td>\n",
       "      <td>19699584</td>\n",
       "      <td>출산휴가후 집근처에 안심하고 맡길 수 있는 어린이집이 있는지?출산휴가후 집근처에 안...</td>\n",
       "    </tr>\n",
       "  </tbody>\n",
       "</table>\n",
       "<p>2138 rows × 6 columns</p>\n",
       "</div>"
      ],
      "text/plain": [
       "        번호  분류                                          제목  \\\n",
       "0     2645  복지                                 아빠 육아휴직 장려금   \n",
       "1     2644  경제                           [서울산업진흥원] 서울메이드란?   \n",
       "3     2642  복지                 광진맘택시 운영(임산부,영아 양육가정 전용 택시)   \n",
       "4     2641  복지                              마포 뇌병변장애인 비전센터   \n",
       "5     2640  행정                   2021년도 중1·고1 신입생 입학준비금 지원   \n",
       "...    ...  ..                                         ...   \n",
       "2633    12  경제                농산물소득분석 자료를 열람하고자 하는데 가능한가요?   \n",
       "2637     8  행정  제가 휠체어를 사용하여야 하는 장애인인데 교육원에서 교육을 받을 수 있나요?   \n",
       "2638     7  행정                     투자심사위원회는 어떻게 구성되어 있습니까?   \n",
       "2639     6  행정   홈페이지를 구축해서 운영을 하려고 하는데 서버를 어떻게 사용할 수 있나요?   \n",
       "2642     3  복지          출산휴가후 집근처에 안심하고 맡길 수 있는 어린이집이 있는지?   \n",
       "\n",
       "                                                     내용      내용번호  \\\n",
       "0     아빠 육아휴직 장려금   업무개요  남성근로자의 육아휴직을 장려하고 양육에 따른 경...  23522464   \n",
       "1     서울산업진흥원 서울메이드란 서울의 감성을 담은 다양하고 새로운 경험을 제공하기 위해...  23194045   \n",
       "3     광진맘택시 운영임산부영아 양육가정 전용 택시  업무개요 교통약자인 임산부와 영아가정...  22904492   \n",
       "4     마포 뇌병변장애인 비전센터 마포뇌병변장애인 비전센터 운영   구분 내용  목적  학...  22477798   \n",
       "5     년도 중고 신입생 입학준비금 지원  업무개요  서울시는 전국 최초로 년도부터 개 자...  22227896   \n",
       "...                                                 ...       ...   \n",
       "2633  농산물소득분석 자료를 열람하고자 하는데 가능한가요 예 가능하십니다    농촌진흥청 ...   2896820   \n",
       "2637  제가 휠체어를 사용하여야 하는 장애인인데 교육원에서 교육을 받을 수 있나요  우리교...   2894409   \n",
       "2638  투자심사위원회는 어떻게 구성되어 있습니까지방재정법시행령 제조항의 규정에 의한 서울특...   2898595   \n",
       "2639  홈페이지를 구축해서 운영을 하려고 하는데 서버를 어떻게 사용할 수 있나요 홈페이지의...   2894434   \n",
       "2642  출산휴가후 집근처에 안심하고 맡길 수 있는 어린이집이 있는지   서울시 육아종합지원...  19699584   \n",
       "\n",
       "                                                     문서  \n",
       "0     아빠 육아휴직 장려금아빠 육아휴직 장려금   업무개요  남성근로자의 육아휴직을 장려...  \n",
       "1     [서울산업진흥원] 서울메이드란?서울산업진흥원 서울메이드란 서울의 감성을 담은 다양하...  \n",
       "3     광진맘택시 운영(임산부,영아 양육가정 전용 택시)광진맘택시 운영임산부영아 양육가정 ...  \n",
       "4     마포 뇌병변장애인 비전센터마포 뇌병변장애인 비전센터 마포뇌병변장애인 비전센터 운영 ...  \n",
       "5     2021년도 중1·고1 신입생 입학준비금 지원년도 중고 신입생 입학준비금 지원  업...  \n",
       "...                                                 ...  \n",
       "2633  농산물소득분석 자료를 열람하고자 하는데 가능한가요?농산물소득분석 자료를 열람하고자 ...  \n",
       "2637  제가 휠체어를 사용하여야 하는 장애인인데 교육원에서 교육을 받을 수 있나요?제가 휠...  \n",
       "2638  투자심사위원회는 어떻게 구성되어 있습니까?투자심사위원회는 어떻게 구성되어 있습니까지...  \n",
       "2639  홈페이지를 구축해서 운영을 하려고 하는데 서버를 어떻게 사용할 수 있나요?홈페이지를...  \n",
       "2642  출산휴가후 집근처에 안심하고 맡길 수 있는 어린이집이 있는지?출산휴가후 집근처에 안...  \n",
       "\n",
       "[2138 rows x 6 columns]"
      ]
     },
     "execution_count": 5,
     "metadata": {},
     "output_type": "execute_result"
    }
   ],
   "source": [
    "df = df.query(\"분류.isin(['행정','경제','복지'])\")\n",
    "df"
   ]
  },
  {
   "cell_type": "code",
   "execution_count": 6,
   "metadata": {},
   "outputs": [],
   "source": [
    "label_name = '분류'"
   ]
  },
  {
   "cell_type": "code",
   "execution_count": 7,
   "metadata": {},
   "outputs": [],
   "source": [
    "feature = df['문서']\n",
    "target = df[label_name]"
   ]
  },
  {
   "cell_type": "code",
   "execution_count": 8,
   "metadata": {},
   "outputs": [],
   "source": [
    "# target_onehot = pd.get_dummies(target)\n",
    "from sklearn.preprocessing import OneHotEncoder\n",
    "encoder = OneHotEncoder()"
   ]
  },
  {
   "cell_type": "code",
   "execution_count": 9,
   "metadata": {},
   "outputs": [],
   "source": [
    "categories_array = np.array(target).reshape(-1, 1)\n",
    "target_onehot = encoder.fit_transform(categories_array)"
   ]
  },
  {
   "cell_type": "code",
   "execution_count": 10,
   "metadata": {},
   "outputs": [],
   "source": [
    "target_onehot = target_onehot.toarray()"
   ]
  },
  {
   "cell_type": "code",
   "execution_count": 11,
   "metadata": {},
   "outputs": [
    {
     "data": {
      "text/plain": [
       "((1710,), (428,), (1710, 3), (428, 3))"
      ]
     },
     "execution_count": 11,
     "metadata": {},
     "output_type": "execute_result"
    }
   ],
   "source": [
    "from sklearn.model_selection import train_test_split\n",
    "\n",
    "feature_train, feature_test, target_train, target_test = train_test_split(feature,target_onehot, test_size=0.2, random_state=42, stratify=target_onehot)\n",
    "feature_train.shape, feature_test.shape, target_train.shape, target_test.shape"
   ]
  },
  {
   "cell_type": "code",
   "execution_count": 12,
   "metadata": {},
   "outputs": [
    {
     "data": {
      "text/plain": [
       "array([[0., 0., 1.],\n",
       "       [1., 0., 0.],\n",
       "       [0., 0., 1.],\n",
       "       ...,\n",
       "       [1., 0., 0.],\n",
       "       [1., 0., 0.],\n",
       "       [0., 0., 1.]])"
      ]
     },
     "execution_count": 12,
     "metadata": {},
     "output_type": "execute_result"
    }
   ],
   "source": [
    "target_train"
   ]
  },
  {
   "cell_type": "code",
   "execution_count": 13,
   "metadata": {},
   "outputs": [
    {
     "data": {
      "text/plain": [
       "0.3333333333333333"
      ]
     },
     "metadata": {},
     "output_type": "display_data"
    },
    {
     "data": {
      "text/plain": [
       "0.3333333333333333"
      ]
     },
     "metadata": {},
     "output_type": "display_data"
    }
   ],
   "source": [
    "display(target_train.mean())\n",
    "display(target_test.mean())"
   ]
  },
  {
   "cell_type": "code",
   "execution_count": 14,
   "metadata": {},
   "outputs": [],
   "source": [
    "target_onehot_dumies = pd.get_dummies(target)"
   ]
  },
  {
   "cell_type": "code",
   "execution_count": 15,
   "metadata": {},
   "outputs": [
    {
     "data": {
      "text/plain": [
       "((1710,), (428,), (1710, 3), (428, 3))"
      ]
     },
     "execution_count": 15,
     "metadata": {},
     "output_type": "execute_result"
    }
   ],
   "source": [
    "feature_train_dumies, feature_test_dumies, target_train_dumies, target_test_dumies = train_test_split(feature,target_onehot_dumies, test_size=0.2, random_state=42, stratify=target_onehot_dumies)\n",
    "feature_train_dumies.shape, feature_test_dumies.shape, target_train_dumies.shape, target_test_dumies.shape"
   ]
  },
  {
   "cell_type": "code",
   "execution_count": 16,
   "metadata": {},
   "outputs": [
    {
     "data": {
      "text/plain": [
       "경제    0.384795\n",
       "복지    0.101754\n",
       "행정    0.513450\n",
       "dtype: float64"
      ]
     },
     "metadata": {},
     "output_type": "display_data"
    },
    {
     "data": {
      "text/plain": [
       "경제    0.385514\n",
       "복지    0.100467\n",
       "행정    0.514019\n",
       "dtype: float64"
      ]
     },
     "metadata": {},
     "output_type": "display_data"
    }
   ],
   "source": [
    "display(target_train_dumies.mean())\n",
    "display(target_test_dumies.mean())"
   ]
  },
  {
   "cell_type": "code",
   "execution_count": 17,
   "metadata": {},
   "outputs": [
    {
     "data": {
      "text/plain": [
       "<keras.src.legacy.preprocessing.text.Tokenizer at 0x27f234c57d0>"
      ]
     },
     "execution_count": 17,
     "metadata": {},
     "output_type": "execute_result"
    }
   ],
   "source": [
    "from tensorflow.keras.preprocessing.text import Tokenizer\n",
    "vocab_size = 10000\n",
    "oov_tok ='<oov>'\n",
    "tokenizer = Tokenizer(num_words=vocab_size,oov_token=oov_tok)\n",
    "tokenizer"
   ]
  },
  {
   "cell_type": "code",
   "execution_count": 18,
   "metadata": {},
   "outputs": [],
   "source": [
    "tokenizer.fit_on_texts(feature_train)"
   ]
  },
  {
   "cell_type": "code",
   "execution_count": 19,
   "metadata": {},
   "outputs": [
    {
     "data": {
      "text/plain": [
       "[\"'\",\n",
       " \"'25시\",\n",
       " \"'경복궁\",\n",
       " \"'관리주체는\",\n",
       " \"'기타운동시설운용업'의\",\n",
       " \"'노원'\",\n",
       " \"'당해\",\n",
       " \"'불허용도'란\",\n",
       " \"'새랑'의\",\n",
       " \"'성공창업\"]"
      ]
     },
     "execution_count": 19,
     "metadata": {},
     "output_type": "execute_result"
    }
   ],
   "source": [
    "word_to_index = tokenizer.word_index\n",
    "sorted(word_to_index)[:10]"
   ]
  },
  {
   "cell_type": "code",
   "execution_count": 20,
   "metadata": {},
   "outputs": [
    {
     "data": {
      "text/plain": [
       "[('우리아이의', 2), ('배정', 11), ('초등학교를', 2), ('알고', 45), ('싶어요', 7)]"
      ]
     },
     "execution_count": 20,
     "metadata": {},
     "output_type": "execute_result"
    }
   ],
   "source": [
    "list(tokenizer.word_counts.items())[:5]"
   ]
  },
  {
   "cell_type": "code",
   "execution_count": 21,
   "metadata": {},
   "outputs": [
    {
     "data": {
      "text/html": [
       "<div>\n",
       "<style scoped>\n",
       "    .dataframe tbody tr th:only-of-type {\n",
       "        vertical-align: middle;\n",
       "    }\n",
       "\n",
       "    .dataframe tbody tr th {\n",
       "        vertical-align: top;\n",
       "    }\n",
       "\n",
       "    .dataframe thead th {\n",
       "        text-align: right;\n",
       "    }\n",
       "</style>\n",
       "<table border=\"1\" class=\"dataframe\">\n",
       "  <thead>\n",
       "    <tr style=\"text-align: right;\">\n",
       "      <th></th>\n",
       "      <th>243</th>\n",
       "      <th>1341</th>\n",
       "      <th>73</th>\n",
       "      <th>460</th>\n",
       "      <th>204</th>\n",
       "      <th>245</th>\n",
       "      <th>69</th>\n",
       "      <th>137</th>\n",
       "      <th>194</th>\n",
       "      <th>533</th>\n",
       "      <th>...</th>\n",
       "      <th>16513</th>\n",
       "      <th>16512</th>\n",
       "      <th>16511</th>\n",
       "      <th>16510</th>\n",
       "      <th>16508</th>\n",
       "      <th>16507</th>\n",
       "      <th>16503</th>\n",
       "      <th>16502</th>\n",
       "      <th>16501</th>\n",
       "      <th>36508</th>\n",
       "    </tr>\n",
       "  </thead>\n",
       "  <tbody>\n",
       "    <tr>\n",
       "      <th>단어</th>\n",
       "      <td>및</td>\n",
       "      <td>돋움</td>\n",
       "      <td>수</td>\n",
       "      <td>경우</td>\n",
       "      <td>또는</td>\n",
       "      <td>등</td>\n",
       "      <td>있는</td>\n",
       "      <td>년</td>\n",
       "      <td>월</td>\n",
       "      <td>있습니다</td>\n",
       "      <td>...</td>\n",
       "      <td>궁내동</td>\n",
       "      <td>분당구</td>\n",
       "      <td>한국기기유화시험연구원</td>\n",
       "      <td>놀이시설팀</td>\n",
       "      <td>가산디지털로</td>\n",
       "      <td>제정되어</td>\n",
       "      <td>검사입니다</td>\n",
       "      <td>안전검사기관으로</td>\n",
       "      <td>시설및</td>\n",
       "      <td>설치하는가</td>\n",
       "    </tr>\n",
       "    <tr>\n",
       "      <th>빈도수</th>\n",
       "      <td>1455</td>\n",
       "      <td>1110</td>\n",
       "      <td>771</td>\n",
       "      <td>593</td>\n",
       "      <td>550</td>\n",
       "      <td>547</td>\n",
       "      <td>411</td>\n",
       "      <td>398</td>\n",
       "      <td>379</td>\n",
       "      <td>378</td>\n",
       "      <td>...</td>\n",
       "      <td>1</td>\n",
       "      <td>1</td>\n",
       "      <td>1</td>\n",
       "      <td>1</td>\n",
       "      <td>1</td>\n",
       "      <td>1</td>\n",
       "      <td>1</td>\n",
       "      <td>1</td>\n",
       "      <td>1</td>\n",
       "      <td>1</td>\n",
       "    </tr>\n",
       "  </tbody>\n",
       "</table>\n",
       "<p>2 rows × 36509 columns</p>\n",
       "</div>"
      ],
      "text/plain": [
       "    243   1341  73    460   204   245   69    137   194   533    ... 16513  \\\n",
       "단어      및    돋움     수    경우    또는     등    있는     년     월  있습니다  ...   궁내동   \n",
       "빈도수  1455  1110   771   593   550   547   411   398   379   378  ...     1   \n",
       "\n",
       "    16512        16511  16510   16508 16507  16503     16502 16501  36508  \n",
       "단어    분당구  한국기기유화시험연구원  놀이시설팀  가산디지털로  제정되어  검사입니다  안전검사기관으로   시설및  설치하는가  \n",
       "빈도수     1            1      1       1     1      1         1     1      1  \n",
       "\n",
       "[2 rows x 36509 columns]"
      ]
     },
     "execution_count": 21,
     "metadata": {},
     "output_type": "execute_result"
    }
   ],
   "source": [
    "word_df = pd.DataFrame(tokenizer.word_counts.items(),columns=['단어','빈도수'])\n",
    "word_df.sort_values(by='빈도수',ascending=False).T"
   ]
  },
  {
   "cell_type": "code",
   "execution_count": 34,
   "metadata": {},
   "outputs": [],
   "source": [
    "# train_sequences = tokenizer.texts_to_sequences(feature_train)\n",
    "# test_sequences = tokenizer.texts_to_sequences(feature_test)\n",
    "train_sequences = tokenizer.texts_to_sequences([str(text) for text in feature_train])\n",
    "test_sequences = tokenizer.texts_to_sequences([str(text) for text in feature_test])"
   ]
  },
  {
   "cell_type": "code",
   "execution_count": 35,
   "metadata": {},
   "outputs": [
    {
     "data": {
      "text/plain": [
       "(1710, 428, (1710,), (1710, 3))"
      ]
     },
     "execution_count": 35,
     "metadata": {},
     "output_type": "execute_result"
    }
   ],
   "source": [
    "len(train_sequences),len(test_sequences),feature_train.shape,target_train.shape"
   ]
  },
  {
   "cell_type": "code",
   "execution_count": 36,
   "metadata": {},
   "outputs": [],
   "source": [
    "max_length = 500\n",
    "padding_type = 'post' # 뒤에 채우기\n",
    "#padding_type = 'pre' # 앞에 채우기"
   ]
  },
  {
   "cell_type": "code",
   "execution_count": 37,
   "metadata": {},
   "outputs": [
    {
     "name": "stdout",
     "output_type": "stream",
     "text": [
      "(1710,)\n"
     ]
    }
   ],
   "source": [
    "from keras.preprocessing.sequence import pad_sequences\n",
    "feature_train_sp = pad_sequences(train_sequences,padding=padding_type,maxlen=max_length)\n",
    "feature_test_sp = pad_sequences(test_sequences,padding=padding_type,maxlen=max_length)\n",
    "print(feature_train.shape)"
   ]
  },
  {
   "cell_type": "code",
   "execution_count": 38,
   "metadata": {},
   "outputs": [],
   "source": [
    "from tensorflow.keras import Sequential\n",
    "from tensorflow.keras.layers import Dense,Embedding,Bidirectional,LSTM,Dropout,BatchNormalization"
   ]
  },
  {
   "cell_type": "code",
   "execution_count": 39,
   "metadata": {},
   "outputs": [],
   "source": [
    "embedding_dim = 64 # 백터 차원갯수"
   ]
  },
  {
   "cell_type": "code",
   "execution_count": 40,
   "metadata": {},
   "outputs": [
    {
     "data": {
      "text/plain": [
       "3"
      ]
     },
     "execution_count": 40,
     "metadata": {},
     "output_type": "execute_result"
    }
   ],
   "source": [
    "n_class = target_train.shape[1]\n",
    "n_class # 분류될 예측값의 종류 (예측값의 수)"
   ]
  },
  {
   "cell_type": "markdown",
   "metadata": {},
   "source": [
    "## LSTM"
   ]
  },
  {
   "cell_type": "code",
   "execution_count": 41,
   "metadata": {},
   "outputs": [],
   "source": [
    "from keras.layers import Input\n",
    "\n",
    "# 입력 레이어 추가\n",
    "input_layer = Input(shape=(max_length,))\n",
    "# 어째서 낮은 버전의 케라스가....\n",
    "model = Sequential([\n",
    "    input_layer,\n",
    "    Embedding(vocab_size,embedding_dim),\n",
    "    Bidirectional(LSTM(64,return_sequences=True)), # 첫번째 층은 연쇄 -> True (셀이 모든 시점{time step}에 대해서 은닉 상태값 출력, False면 마지막 시점의 은닉 상태값만 출력)\n",
    "    BatchNormalization(),\n",
    "    Bidirectional(LSTM(32)),\n",
    "    Dense(16,activation='relu'),\n",
    "    Dense(n_class,activation='softmax')\n",
    "])"
   ]
  },
  {
   "cell_type": "markdown",
   "metadata": {},
   "source": [
    "## 모델 컴파일하기"
   ]
  },
  {
   "cell_type": "code",
   "execution_count": 42,
   "metadata": {},
   "outputs": [],
   "source": [
    "model.compile(loss='categorical_crossentropy'\n",
    "              ,optimizer='adam'\n",
    "              ,metrics=['accuracy']\n",
    "              )"
   ]
  },
  {
   "cell_type": "code",
   "execution_count": 43,
   "metadata": {},
   "outputs": [
    {
     "data": {
      "text/html": [
       "<pre style=\"white-space:pre;overflow-x:auto;line-height:normal;font-family:Menlo,'DejaVu Sans Mono',consolas,'Courier New',monospace\"><span style=\"font-weight: bold\">Model: \"sequential_1\"</span>\n",
       "</pre>\n"
      ],
      "text/plain": [
       "\u001b[1mModel: \"sequential_1\"\u001b[0m\n"
      ]
     },
     "metadata": {},
     "output_type": "display_data"
    },
    {
     "data": {
      "text/html": [
       "<pre style=\"white-space:pre;overflow-x:auto;line-height:normal;font-family:Menlo,'DejaVu Sans Mono',consolas,'Courier New',monospace\">┏━━━━━━━━━━━━━━━━━━━━━━━━━━━━━━━━━┳━━━━━━━━━━━━━━━━━━━━━━━━┳━━━━━━━━━━━━━━━┓\n",
       "┃<span style=\"font-weight: bold\"> Layer (type)                    </span>┃<span style=\"font-weight: bold\"> Output Shape           </span>┃<span style=\"font-weight: bold\">       Param # </span>┃\n",
       "┡━━━━━━━━━━━━━━━━━━━━━━━━━━━━━━━━━╇━━━━━━━━━━━━━━━━━━━━━━━━╇━━━━━━━━━━━━━━━┩\n",
       "│ embedding_1 (<span style=\"color: #0087ff; text-decoration-color: #0087ff\">Embedding</span>)         │ (<span style=\"color: #00d7ff; text-decoration-color: #00d7ff\">None</span>, <span style=\"color: #00af00; text-decoration-color: #00af00\">500</span>, <span style=\"color: #00af00; text-decoration-color: #00af00\">64</span>)        │       <span style=\"color: #00af00; text-decoration-color: #00af00\">640,000</span> │\n",
       "├─────────────────────────────────┼────────────────────────┼───────────────┤\n",
       "│ bidirectional_2 (<span style=\"color: #0087ff; text-decoration-color: #0087ff\">Bidirectional</span>) │ (<span style=\"color: #00d7ff; text-decoration-color: #00d7ff\">None</span>, <span style=\"color: #00af00; text-decoration-color: #00af00\">500</span>, <span style=\"color: #00af00; text-decoration-color: #00af00\">128</span>)       │        <span style=\"color: #00af00; text-decoration-color: #00af00\">66,048</span> │\n",
       "├─────────────────────────────────┼────────────────────────┼───────────────┤\n",
       "│ batch_normalization_1           │ (<span style=\"color: #00d7ff; text-decoration-color: #00d7ff\">None</span>, <span style=\"color: #00af00; text-decoration-color: #00af00\">500</span>, <span style=\"color: #00af00; text-decoration-color: #00af00\">128</span>)       │           <span style=\"color: #00af00; text-decoration-color: #00af00\">512</span> │\n",
       "│ (<span style=\"color: #0087ff; text-decoration-color: #0087ff\">BatchNormalization</span>)            │                        │               │\n",
       "├─────────────────────────────────┼────────────────────────┼───────────────┤\n",
       "│ bidirectional_3 (<span style=\"color: #0087ff; text-decoration-color: #0087ff\">Bidirectional</span>) │ (<span style=\"color: #00d7ff; text-decoration-color: #00d7ff\">None</span>, <span style=\"color: #00af00; text-decoration-color: #00af00\">64</span>)             │        <span style=\"color: #00af00; text-decoration-color: #00af00\">41,216</span> │\n",
       "├─────────────────────────────────┼────────────────────────┼───────────────┤\n",
       "│ dense_2 (<span style=\"color: #0087ff; text-decoration-color: #0087ff\">Dense</span>)                 │ (<span style=\"color: #00d7ff; text-decoration-color: #00d7ff\">None</span>, <span style=\"color: #00af00; text-decoration-color: #00af00\">16</span>)             │         <span style=\"color: #00af00; text-decoration-color: #00af00\">1,040</span> │\n",
       "├─────────────────────────────────┼────────────────────────┼───────────────┤\n",
       "│ dense_3 (<span style=\"color: #0087ff; text-decoration-color: #0087ff\">Dense</span>)                 │ (<span style=\"color: #00d7ff; text-decoration-color: #00d7ff\">None</span>, <span style=\"color: #00af00; text-decoration-color: #00af00\">3</span>)              │            <span style=\"color: #00af00; text-decoration-color: #00af00\">51</span> │\n",
       "└─────────────────────────────────┴────────────────────────┴───────────────┘\n",
       "</pre>\n"
      ],
      "text/plain": [
       "┏━━━━━━━━━━━━━━━━━━━━━━━━━━━━━━━━━┳━━━━━━━━━━━━━━━━━━━━━━━━┳━━━━━━━━━━━━━━━┓\n",
       "┃\u001b[1m \u001b[0m\u001b[1mLayer (type)                   \u001b[0m\u001b[1m \u001b[0m┃\u001b[1m \u001b[0m\u001b[1mOutput Shape          \u001b[0m\u001b[1m \u001b[0m┃\u001b[1m \u001b[0m\u001b[1m      Param #\u001b[0m\u001b[1m \u001b[0m┃\n",
       "┡━━━━━━━━━━━━━━━━━━━━━━━━━━━━━━━━━╇━━━━━━━━━━━━━━━━━━━━━━━━╇━━━━━━━━━━━━━━━┩\n",
       "│ embedding_1 (\u001b[38;5;33mEmbedding\u001b[0m)         │ (\u001b[38;5;45mNone\u001b[0m, \u001b[38;5;34m500\u001b[0m, \u001b[38;5;34m64\u001b[0m)        │       \u001b[38;5;34m640,000\u001b[0m │\n",
       "├─────────────────────────────────┼────────────────────────┼───────────────┤\n",
       "│ bidirectional_2 (\u001b[38;5;33mBidirectional\u001b[0m) │ (\u001b[38;5;45mNone\u001b[0m, \u001b[38;5;34m500\u001b[0m, \u001b[38;5;34m128\u001b[0m)       │        \u001b[38;5;34m66,048\u001b[0m │\n",
       "├─────────────────────────────────┼────────────────────────┼───────────────┤\n",
       "│ batch_normalization_1           │ (\u001b[38;5;45mNone\u001b[0m, \u001b[38;5;34m500\u001b[0m, \u001b[38;5;34m128\u001b[0m)       │           \u001b[38;5;34m512\u001b[0m │\n",
       "│ (\u001b[38;5;33mBatchNormalization\u001b[0m)            │                        │               │\n",
       "├─────────────────────────────────┼────────────────────────┼───────────────┤\n",
       "│ bidirectional_3 (\u001b[38;5;33mBidirectional\u001b[0m) │ (\u001b[38;5;45mNone\u001b[0m, \u001b[38;5;34m64\u001b[0m)             │        \u001b[38;5;34m41,216\u001b[0m │\n",
       "├─────────────────────────────────┼────────────────────────┼───────────────┤\n",
       "│ dense_2 (\u001b[38;5;33mDense\u001b[0m)                 │ (\u001b[38;5;45mNone\u001b[0m, \u001b[38;5;34m16\u001b[0m)             │         \u001b[38;5;34m1,040\u001b[0m │\n",
       "├─────────────────────────────────┼────────────────────────┼───────────────┤\n",
       "│ dense_3 (\u001b[38;5;33mDense\u001b[0m)                 │ (\u001b[38;5;45mNone\u001b[0m, \u001b[38;5;34m3\u001b[0m)              │            \u001b[38;5;34m51\u001b[0m │\n",
       "└─────────────────────────────────┴────────────────────────┴───────────────┘\n"
      ]
     },
     "metadata": {},
     "output_type": "display_data"
    },
    {
     "data": {
      "text/html": [
       "<pre style=\"white-space:pre;overflow-x:auto;line-height:normal;font-family:Menlo,'DejaVu Sans Mono',consolas,'Courier New',monospace\"><span style=\"font-weight: bold\"> Total params: </span><span style=\"color: #00af00; text-decoration-color: #00af00\">748,867</span> (2.86 MB)\n",
       "</pre>\n"
      ],
      "text/plain": [
       "\u001b[1m Total params: \u001b[0m\u001b[38;5;34m748,867\u001b[0m (2.86 MB)\n"
      ]
     },
     "metadata": {},
     "output_type": "display_data"
    },
    {
     "data": {
      "text/html": [
       "<pre style=\"white-space:pre;overflow-x:auto;line-height:normal;font-family:Menlo,'DejaVu Sans Mono',consolas,'Courier New',monospace\"><span style=\"font-weight: bold\"> Trainable params: </span><span style=\"color: #00af00; text-decoration-color: #00af00\">748,611</span> (2.86 MB)\n",
       "</pre>\n"
      ],
      "text/plain": [
       "\u001b[1m Trainable params: \u001b[0m\u001b[38;5;34m748,611\u001b[0m (2.86 MB)\n"
      ]
     },
     "metadata": {},
     "output_type": "display_data"
    },
    {
     "data": {
      "text/html": [
       "<pre style=\"white-space:pre;overflow-x:auto;line-height:normal;font-family:Menlo,'DejaVu Sans Mono',consolas,'Courier New',monospace\"><span style=\"font-weight: bold\"> Non-trainable params: </span><span style=\"color: #00af00; text-decoration-color: #00af00\">256</span> (1.00 KB)\n",
       "</pre>\n"
      ],
      "text/plain": [
       "\u001b[1m Non-trainable params: \u001b[0m\u001b[38;5;34m256\u001b[0m (1.00 KB)\n"
      ]
     },
     "metadata": {},
     "output_type": "display_data"
    }
   ],
   "source": [
    "model.summary()"
   ]
  },
  {
   "cell_type": "markdown",
   "metadata": {},
   "source": [
    "## 학습하기"
   ]
  },
  {
   "cell_type": "code",
   "execution_count": 44,
   "metadata": {},
   "outputs": [],
   "source": [
    "from tensorflow.keras.callbacks import EarlyStopping\n",
    "early_stop = EarlyStopping(monitor='val_loss', patience=5)"
   ]
  },
  {
   "cell_type": "code",
   "execution_count": 45,
   "metadata": {},
   "outputs": [
    {
     "name": "stdout",
     "output_type": "stream",
     "text": [
      "Epoch 1/100\n",
      "\u001b[1m22/22\u001b[0m \u001b[32m━━━━━━━━━━━━━━━━━━━━\u001b[0m\u001b[37m\u001b[0m \u001b[1m15s\u001b[0m 477ms/step - accuracy: 0.4549 - loss: 1.0020 - val_accuracy: 0.4971 - val_loss: 1.0505\n",
      "Epoch 2/100\n",
      "\u001b[1m22/22\u001b[0m \u001b[32m━━━━━━━━━━━━━━━━━━━━\u001b[0m\u001b[37m\u001b[0m \u001b[1m10s\u001b[0m 479ms/step - accuracy: 0.5316 - loss: 0.9172 - val_accuracy: 0.4942 - val_loss: 1.0316\n",
      "Epoch 3/100\n",
      "\u001b[1m22/22\u001b[0m \u001b[32m━━━━━━━━━━━━━━━━━━━━\u001b[0m\u001b[37m\u001b[0m \u001b[1m11s\u001b[0m 520ms/step - accuracy: 0.5186 - loss: 0.8467 - val_accuracy: 0.5117 - val_loss: 1.0335\n",
      "Epoch 4/100\n",
      "\u001b[1m22/22\u001b[0m \u001b[32m━━━━━━━━━━━━━━━━━━━━\u001b[0m\u001b[37m\u001b[0m \u001b[1m11s\u001b[0m 499ms/step - accuracy: 0.7649 - loss: 0.6375 - val_accuracy: 0.5643 - val_loss: 0.9702\n",
      "Epoch 5/100\n",
      "\u001b[1m22/22\u001b[0m \u001b[32m━━━━━━━━━━━━━━━━━━━━\u001b[0m\u001b[37m\u001b[0m \u001b[1m11s\u001b[0m 502ms/step - accuracy: 0.9549 - loss: 0.2043 - val_accuracy: 0.6842 - val_loss: 0.8997\n",
      "Epoch 6/100\n",
      "\u001b[1m22/22\u001b[0m \u001b[32m━━━━━━━━━━━━━━━━━━━━\u001b[0m\u001b[37m\u001b[0m \u001b[1m11s\u001b[0m 493ms/step - accuracy: 0.9795 - loss: 0.0869 - val_accuracy: 0.6111 - val_loss: 0.8736\n",
      "Epoch 7/100\n",
      "\u001b[1m22/22\u001b[0m \u001b[32m━━━━━━━━━━━━━━━━━━━━\u001b[0m\u001b[37m\u001b[0m \u001b[1m11s\u001b[0m 497ms/step - accuracy: 0.9850 - loss: 0.0663 - val_accuracy: 0.6345 - val_loss: 0.8505\n",
      "Epoch 8/100\n",
      "\u001b[1m22/22\u001b[0m \u001b[32m━━━━━━━━━━━━━━━━━━━━\u001b[0m\u001b[37m\u001b[0m \u001b[1m11s\u001b[0m 499ms/step - accuracy: 0.9946 - loss: 0.0335 - val_accuracy: 0.6930 - val_loss: 0.8028\n",
      "Epoch 9/100\n",
      "\u001b[1m22/22\u001b[0m \u001b[32m━━━━━━━━━━━━━━━━━━━━\u001b[0m\u001b[37m\u001b[0m \u001b[1m11s\u001b[0m 497ms/step - accuracy: 0.9986 - loss: 0.0167 - val_accuracy: 0.6345 - val_loss: 0.7960\n",
      "Epoch 10/100\n",
      "\u001b[1m22/22\u001b[0m \u001b[32m━━━━━━━━━━━━━━━━━━━━\u001b[0m\u001b[37m\u001b[0m \u001b[1m11s\u001b[0m 503ms/step - accuracy: 0.9924 - loss: 0.0328 - val_accuracy: 0.6520 - val_loss: 0.8036\n",
      "Epoch 11/100\n",
      "\u001b[1m22/22\u001b[0m \u001b[32m━━━━━━━━━━━━━━━━━━━━\u001b[0m\u001b[37m\u001b[0m \u001b[1m11s\u001b[0m 503ms/step - accuracy: 0.9979 - loss: 0.0231 - val_accuracy: 0.6813 - val_loss: 0.7518\n",
      "Epoch 12/100\n",
      "\u001b[1m22/22\u001b[0m \u001b[32m━━━━━━━━━━━━━━━━━━━━\u001b[0m\u001b[37m\u001b[0m \u001b[1m11s\u001b[0m 503ms/step - accuracy: 0.9981 - loss: 0.0157 - val_accuracy: 0.6930 - val_loss: 0.7213\n",
      "Epoch 13/100\n",
      "\u001b[1m22/22\u001b[0m \u001b[32m━━━━━━━━━━━━━━━━━━━━\u001b[0m\u001b[37m\u001b[0m \u001b[1m11s\u001b[0m 511ms/step - accuracy: 0.9995 - loss: 0.0045 - val_accuracy: 0.6316 - val_loss: 0.8166\n",
      "Epoch 14/100\n",
      "\u001b[1m22/22\u001b[0m \u001b[32m━━━━━━━━━━━━━━━━━━━━\u001b[0m\u001b[37m\u001b[0m \u001b[1m11s\u001b[0m 505ms/step - accuracy: 0.9992 - loss: 0.0079 - val_accuracy: 0.7047 - val_loss: 0.7075\n",
      "Epoch 15/100\n",
      "\u001b[1m22/22\u001b[0m \u001b[32m━━━━━━━━━━━━━━━━━━━━\u001b[0m\u001b[37m\u001b[0m \u001b[1m11s\u001b[0m 509ms/step - accuracy: 0.9991 - loss: 0.0036 - val_accuracy: 0.6725 - val_loss: 0.7956\n",
      "Epoch 16/100\n",
      "\u001b[1m22/22\u001b[0m \u001b[32m━━━━━━━━━━━━━━━━━━━━\u001b[0m\u001b[37m\u001b[0m \u001b[1m11s\u001b[0m 509ms/step - accuracy: 0.9979 - loss: 0.0050 - val_accuracy: 0.7018 - val_loss: 0.7570\n",
      "Epoch 17/100\n",
      "\u001b[1m22/22\u001b[0m \u001b[32m━━━━━━━━━━━━━━━━━━━━\u001b[0m\u001b[37m\u001b[0m \u001b[1m11s\u001b[0m 504ms/step - accuracy: 0.9999 - loss: 0.0018 - val_accuracy: 0.7222 - val_loss: 0.7553\n",
      "Epoch 18/100\n",
      "\u001b[1m22/22\u001b[0m \u001b[32m━━━━━━━━━━━━━━━━━━━━\u001b[0m\u001b[37m\u001b[0m \u001b[1m11s\u001b[0m 508ms/step - accuracy: 0.9999 - loss: 0.0020 - val_accuracy: 0.7164 - val_loss: 0.7934\n",
      "Epoch 19/100\n",
      "\u001b[1m22/22\u001b[0m \u001b[32m━━━━━━━━━━━━━━━━━━━━\u001b[0m\u001b[37m\u001b[0m \u001b[1m11s\u001b[0m 510ms/step - accuracy: 0.9995 - loss: 0.0045 - val_accuracy: 0.7105 - val_loss: 0.8502\n"
     ]
    }
   ],
   "source": [
    "history = model.fit(feature_train_sp,target_train, epochs=100,batch_size=64,callbacks=early_stop,validation_split=0.2)\n"
   ]
  },
  {
   "cell_type": "code",
   "execution_count": 46,
   "metadata": {},
   "outputs": [
    {
     "name": "stdout",
     "output_type": "stream",
     "text": [
      "    accuracy      loss  val_accuracy  val_loss\n",
      "0   0.500731  0.961660      0.497076  1.050507\n",
      "1   0.524123  0.918486      0.494152  1.031575\n",
      "2   0.529971  0.802437      0.511696  1.033488\n",
      "3   0.808480  0.553849      0.564327  0.970249\n",
      "4   0.964181  0.173693      0.684211  0.899681\n",
      "5   0.980263  0.085436      0.611111  0.873586\n",
      "6   0.983918  0.071427      0.634503  0.850507\n",
      "7   0.994883  0.031957      0.692982  0.802835\n",
      "8   0.996345  0.023230      0.634503  0.796017\n",
      "9   0.987573  0.044190      0.652047  0.803638\n",
      "10  0.997076  0.019271      0.681287  0.751808\n",
      "11  0.997807  0.013439      0.692982  0.721336\n",
      "12  0.998538  0.006922      0.631579  0.816567\n",
      "13  0.997807  0.008977      0.704678  0.707484\n",
      "14  0.997807  0.006469      0.672515  0.795576\n",
      "15  0.998538  0.003885      0.701754  0.756979\n",
      "16  0.999269  0.002621      0.722222  0.755343\n",
      "17  0.999269  0.002892      0.716374  0.793442\n",
      "18  0.999269  0.004353      0.710526  0.850158\n"
     ]
    }
   ],
   "source": [
    "# 모델의 훈련 과정에서 발생한 메트릭과 손실 값을 딕셔너리로 추출\n",
    "history_dict = history.history\n",
    "\n",
    "# 딕셔너리를 데이터프레임으로 변환\n",
    "history_df = pd.DataFrame(history_dict)\n",
    "\n",
    "# 데이터프레임 출력\n",
    "print(history_df)"
   ]
  },
  {
   "cell_type": "code",
   "execution_count": 47,
   "metadata": {},
   "outputs": [
    {
     "data": {
      "text/plain": [
       "<Axes: >"
      ]
     },
     "execution_count": 47,
     "metadata": {},
     "output_type": "execute_result"
    },
    {
     "data": {
      "image/png": "[encoded data removed]",
      "text/plain": [
       "<Figure size 640x480 with 1 Axes>"
      ]
     },
     "metadata": {},
     "output_type": "display_data"
    }
   ],
   "source": [
    "history_df[[\"accuracy\",'val_accuracy']].plot() # 둘의 간격이 좁을수록 학습이 잘 된것"
   ]
  },
  {
   "cell_type": "code",
   "execution_count": 48,
   "metadata": {},
   "outputs": [
    {
     "data": {
      "text/plain": [
       "<Axes: >"
      ]
     },
     "execution_count": 48,
     "metadata": {},
     "output_type": "execute_result"
    },
    {
     "data": {
      "image/png": "[encoded data removed]",
      "text/plain": [
       "<Figure size 640x480 with 1 Axes>"
      ]
     },
     "metadata": {},
     "output_type": "display_data"
    }
   ],
   "source": [
    "history_df[[\"loss\",'val_loss']].plot()\n"
   ]
  },
  {
   "cell_type": "markdown",
   "metadata": {},
   "source": [
    "## 예측하기"
   ]
  },
  {
   "cell_type": "code",
   "execution_count": 49,
   "metadata": {},
   "outputs": [
    {
     "name": "stdout",
     "output_type": "stream",
     "text": [
      "\u001b[1m14/14\u001b[0m \u001b[32m━━━━━━━━━━━━━━━━━━━━\u001b[0m\u001b[37m\u001b[0m \u001b[1m2s\u001b[0m 92ms/step\n"
     ]
    },
    {
     "data": {
      "text/plain": [
       "array([[0.00472021, 0.00287208, 0.9924077 ],\n",
       "       [0.05109897, 0.24276826, 0.70613277],\n",
       "       [0.01991118, 0.02093051, 0.95915836],\n",
       "       [0.9879419 , 0.0024909 , 0.00956719],\n",
       "       [0.9331389 , 0.03581053, 0.03105051],\n",
       "       [0.9860741 , 0.00419142, 0.00973444],\n",
       "       [0.33028623, 0.16226684, 0.507447  ],\n",
       "       [0.9872551 , 0.00479535, 0.00794946],\n",
       "       [0.0378749 , 0.02452697, 0.9375981 ],\n",
       "       [0.00878317, 0.04416837, 0.9470485 ]], dtype=float32)"
      ]
     },
     "execution_count": 49,
     "metadata": {},
     "output_type": "execute_result"
    }
   ],
   "source": [
    "target_pred = model.predict(feature_test_sp)\n",
    "target_pred[:10]"
   ]
  },
  {
   "cell_type": "code",
   "execution_count": 50,
   "metadata": {},
   "outputs": [
    {
     "data": {
      "text/plain": [
       "(428, 3)"
      ]
     },
     "execution_count": 50,
     "metadata": {},
     "output_type": "execute_result"
    }
   ],
   "source": [
    "target_pred.shape"
   ]
  },
  {
   "cell_type": "markdown",
   "metadata": {},
   "source": [
    "## 평가하기"
   ]
  },
  {
   "cell_type": "code",
   "execution_count": 51,
   "metadata": {},
   "outputs": [
    {
     "data": {
      "text/plain": [
       "array([2, 2, 2, 0, 0, 0, 2, 0, 2, 2], dtype=int64)"
      ]
     },
     "execution_count": 51,
     "metadata": {},
     "output_type": "execute_result"
    }
   ],
   "source": [
    "target_predict = np.argmax(target_pred,axis=1)\n",
    "target_predict[:10]"
   ]
  },
  {
   "cell_type": "code",
   "execution_count": 52,
   "metadata": {},
   "outputs": [],
   "source": [
    "target_test_val = np.argmax(target_test,axis=1)"
   ]
  },
  {
   "cell_type": "code",
   "execution_count": 53,
   "metadata": {},
   "outputs": [
    {
     "data": {
      "text/plain": [
       "((428,), (428,))"
      ]
     },
     "execution_count": 53,
     "metadata": {},
     "output_type": "execute_result"
    }
   ],
   "source": [
    "target_test_val.shape,target_predict.shape"
   ]
  },
  {
   "cell_type": "code",
   "execution_count": 54,
   "metadata": {},
   "outputs": [
    {
     "data": {
      "text/plain": [
       "0.705607476635514"
      ]
     },
     "execution_count": 54,
     "metadata": {},
     "output_type": "execute_result"
    }
   ],
   "source": [
    "(target_test_val == target_predict).mean()"
   ]
  },
  {
   "cell_type": "code",
   "execution_count": 55,
   "metadata": {},
   "outputs": [
    {
     "name": "stdout",
     "output_type": "stream",
     "text": [
      "\u001b[1m14/14\u001b[0m \u001b[32m━━━━━━━━━━━━━━━━━━━━\u001b[0m\u001b[37m\u001b[0m \u001b[1m1s\u001b[0m 60ms/step - accuracy: 0.7122 - loss: 0.8568\n"
     ]
    },
    {
     "data": {
      "text/plain": [
       "(0.8214678764343262, 0.7056074738502502)"
      ]
     },
     "execution_count": 55,
     "metadata": {},
     "output_type": "execute_result"
    }
   ],
   "source": [
    "test_loss, test_acc = model.evaluate(feature_test_sp,target_test)\n",
    "test_loss, test_acc"
   ]
  },
  {
   "cell_type": "code",
   "execution_count": null,
   "metadata": {},
   "outputs": [],
   "source": []
  }
 ],
 "metadata": {
  "kernelspec": {
   "display_name": "Python 3",
   "language": "python",
   "name": "python3"
  },
  "language_info": {
   "codemirror_mode": {
    "name": "ipython",
    "version": 3
   },
   "file_extension": ".py",
   "mimetype": "text/x-python",
   "name": "python",
   "nbconvert_exporter": "python",
   "pygments_lexer": "ipython3",
   "version": "3.11.8"
  }
 },
 "nbformat": 4,
 "nbformat_minor": 2
}
