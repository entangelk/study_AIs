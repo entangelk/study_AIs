{
  "nbformat": 4,
  "nbformat_minor": 0,
  "metadata": {
    "colab": {
      "provenance": [],
      "authorship_tag": "ABX9TyOH+HQ/62kfXc+MXVUGbbJM",
      "include_colab_link": true
    },
    "kernelspec": {
      "name": "python3",
      "display_name": "Python 3"
    },
    "language_info": {
      "name": "python"
    }
  },
  "cells": [
    {
      "cell_type": "markdown",
      "metadata": {
        "id": "view-in-github",
        "colab_type": "text"
      },
      "source": [
        "<a href=\"https://colab.research.google.com/github/entangelk/study_AIs/blob/main/docs/quests/NLPs/classification_news.ipynb\" target=\"_parent\"><img src=\"https://colab.research.google.com/assets/colab-badge.svg\" alt=\"Open In Colab\"/></a>"
      ]
    },
    {
      "cell_type": "markdown",
      "source": [
        "## 한글 처리"
      ],
      "metadata": {
        "id": "7769kv60rqH_"
      }
    },
    {
      "cell_type": "code",
      "source": [
        "!apt-get -y install fonts-nanum\n",
        "!fc-cache -fv\n",
        "!rm ~/.cache/matplotlib -rf"
      ],
      "metadata": {
        "id": "pLvlRxB4rrln"
      },
      "execution_count": null,
      "outputs": []
    },
    {
      "cell_type": "markdown",
      "source": [
        "## 시작"
      ],
      "metadata": {
        "id": "X3xh_IHFRseR"
      }
    },
    {
      "cell_type": "markdown",
      "source": [
        "### 데이터 전처리"
      ],
      "metadata": {
        "id": "digpti79aewM"
      }
    },
    {
      "cell_type": "code",
      "source": [
        "import pandas as pd"
      ],
      "metadata": {
        "id": "MOCpQyAuRr85"
      },
      "execution_count": 1,
      "outputs": []
    },
    {
      "cell_type": "code",
      "source": [
        "df_ITNews = pd.read_excel('IT News.xlsx', sheet_name=None)"
      ],
      "metadata": {
        "id": "f6W6SrgmSA2T"
      },
      "execution_count": 2,
      "outputs": []
    },
    {
      "cell_type": "code",
      "source": [
        "len(df_ITNews)"
      ],
      "metadata": {
        "colab": {
          "base_uri": "https://localhost:8080/"
        },
        "id": "Cc-6vlVJSJ9p",
        "outputId": "101e7cc3-0d22-4466-8b54-b6786bfea492"
      },
      "execution_count": 3,
      "outputs": [
        {
          "output_type": "execute_result",
          "data": {
            "text/plain": [
              "45"
            ]
          },
          "metadata": {},
          "execution_count": 3
        }
      ]
    },
    {
      "cell_type": "code",
      "source": [
        "sheets_list = []\n",
        "for i,df in df_ITNews.items():\n",
        "  sheets_list.append(df)\n",
        "  print(f'{i} {type(df)}')"
      ],
      "metadata": {
        "colab": {
          "base_uri": "https://localhost:8080/"
        },
        "id": "Rc4LH-7VSLyh",
        "outputId": "58a8eb35-a40c-4b22-92bf-1f9dfd8cfc92"
      },
      "execution_count": 4,
      "outputs": [
        {
          "output_type": "stream",
          "name": "stdout",
          "text": [
            "2024-01-31 <class 'pandas.core.frame.DataFrame'>\n",
            "2024-01-30 <class 'pandas.core.frame.DataFrame'>\n",
            "2024-01-29 <class 'pandas.core.frame.DataFrame'>\n",
            "2024-01-26 <class 'pandas.core.frame.DataFrame'>\n",
            "2024-01-25 <class 'pandas.core.frame.DataFrame'>\n",
            "2024-01-24 <class 'pandas.core.frame.DataFrame'>\n",
            "2024-01-23 <class 'pandas.core.frame.DataFrame'>\n",
            "2024-01-22 <class 'pandas.core.frame.DataFrame'>\n",
            "2024-1-19 <class 'pandas.core.frame.DataFrame'>\n",
            "2024-1-18 <class 'pandas.core.frame.DataFrame'>\n",
            "2024-1-17 <class 'pandas.core.frame.DataFrame'>\n",
            "2024-1-16 <class 'pandas.core.frame.DataFrame'>\n",
            "2024-1-15 <class 'pandas.core.frame.DataFrame'>\n",
            "2024-1-12 <class 'pandas.core.frame.DataFrame'>\n",
            "2024-1-11 <class 'pandas.core.frame.DataFrame'>\n",
            "2024-1-10 <class 'pandas.core.frame.DataFrame'>\n",
            "2024-1-9 <class 'pandas.core.frame.DataFrame'>\n",
            "2024-1-8 <class 'pandas.core.frame.DataFrame'>\n",
            "2024-1-5 <class 'pandas.core.frame.DataFrame'>\n",
            "2024-1-4 <class 'pandas.core.frame.DataFrame'>\n",
            "2024-01-03 <class 'pandas.core.frame.DataFrame'>\n",
            "2024-1-2 <class 'pandas.core.frame.DataFrame'>\n",
            "2024-02-19 <class 'pandas.core.frame.DataFrame'>\n",
            "2024-02-16 <class 'pandas.core.frame.DataFrame'>\n",
            "2024-02-15 <class 'pandas.core.frame.DataFrame'>\n",
            "2024-02-14 <class 'pandas.core.frame.DataFrame'>\n",
            "2024-02-13 <class 'pandas.core.frame.DataFrame'>\n",
            "2024-02-07 <class 'pandas.core.frame.DataFrame'>\n",
            "2024-02-06 <class 'pandas.core.frame.DataFrame'>\n",
            "2024-02-05 <class 'pandas.core.frame.DataFrame'>\n",
            "2024-02-02 <class 'pandas.core.frame.DataFrame'>\n",
            "2024-02-01 <class 'pandas.core.frame.DataFrame'>\n",
            "2023-12-29 <class 'pandas.core.frame.DataFrame'>\n",
            "2023-12-28 <class 'pandas.core.frame.DataFrame'>\n",
            "2023-12-27 <class 'pandas.core.frame.DataFrame'>\n",
            "2023-12-26 <class 'pandas.core.frame.DataFrame'>\n",
            "2023-12-22 <class 'pandas.core.frame.DataFrame'>\n",
            "2023-12-21 <class 'pandas.core.frame.DataFrame'>\n",
            "2023-12-20 <class 'pandas.core.frame.DataFrame'>\n",
            "2023-12-19 <class 'pandas.core.frame.DataFrame'>\n",
            "2023-12-18 <class 'pandas.core.frame.DataFrame'>\n",
            "2023-12-15 <class 'pandas.core.frame.DataFrame'>\n",
            "Template <class 'pandas.core.frame.DataFrame'>\n",
            "2023-12-14 <class 'pandas.core.frame.DataFrame'>\n",
            "2023-12-13 <class 'pandas.core.frame.DataFrame'>\n"
          ]
        }
      ]
    },
    {
      "cell_type": "code",
      "source": [
        "sheets_list[0]['문장 요약'].tolist()"
      ],
      "metadata": {
        "colab": {
          "base_uri": "https://localhost:8080/"
        },
        "id": "wOKEmjlrSPWJ",
        "outputId": "0e863065-83a5-4928-adbe-087be3bbab76"
      },
      "execution_count": 5,
      "outputs": [
        {
          "output_type": "execute_result",
          "data": {
            "text/plain": [
              "['정부가 맞춤형 광고에 사용되는 개인정보 처리 투명성을 높인다. 앞으로 광고 사업자와 광고 매체 사업자는 종전보다 명확한 개인정보 처리 규정을 지켜야 한다. 이용자는 자신의 정보가 어떻게 이용됐는지 구체적으로 확인할 수 있다. 정부는 민·관 협의체를 구성해 정보 처리 투명성을 더 높일 계획이다.',\n",
              " '카카오톡 선물하기에서 선물 받은 모바일 교환권을 삼성페이와 연동할 수 있다. 선물함에서 모바일 교환권 하단의 삼성페이 버튼만 누르면 삼성페이에 자동 저장된다.',\n",
              " 'KAIST는 이상완 뇌인지과학과 교수 연구팀이 인간의 빠른 추론 능력을 유도해 인과관계의 학습 효율을 향상할 수 있는 뇌 기반 인공지능 기술 개발에 성공했다고 31일 밝혔다.',\n",
              " \"인간 줄기세포로 만든 뇌조직(미니 뇌)을 전자칩에 연결한 '브레인웨이'를 구축해 간단한 계산 작업을 수행하는데 성공했다.\",\n",
              " \"네이버페이와 카카오페이(377300)가 '전월세대출 갈아타기' 서비스를 출시한다고 31일 밝혔다. 앞서 양사는 지난 9일 '주택담보대출 갈아타기' 서비스를 동시에 내놓은 바 있다.\",\n",
              " '카카오의 위치 기반 라이프플랫폼 카카오맵은 백화점, 아울렛, 대형 쇼핑몰 등 국내 주요 복합상업시설 100여곳에 대한 실내지도 서비스를 실시한다고 31일 밝혔다.',\n",
              " '사람의 뇌에 칩을 심어 질병과 장애를 극복하는 공상과학(SF) 영화가 현실이 되고 있다.머스크는 29일 X에 “어제 칩 이식을 받은 환자가 잘 회복하고 있다”며 “뉴런(신경세포)의 신호인 스파이크가 감지되는 등 초기 결과는 양호한 편”이라고 했다. ',\n",
              " nan,\n",
              " nan,\n",
              " '중고거래 플랫폼 사용량의 급증으로 중고물품 피해사례도 급증하고 있다. ',\n",
              " '프랑스·독일의 음악가 열에 일곱은 생성형 인공지능(AI)으로 생계에 위협을 느낀다는 여론조사 결과가 30일(현지시간) 공개됐다.',\n",
              " nan,\n",
              " nan,\n",
              " \"AI 모델들이 저작물을 무단 학습하는 것을 막기 위한 '나이트셰이드(Nightshade)'라는 소프트웨어 도구를 공개했다.\",\n",
              " nan]"
            ]
          },
          "metadata": {},
          "execution_count": 5
        }
      ]
    },
    {
      "cell_type": "code",
      "source": [
        "long_list =[]\n",
        "for i in sheets_list:\n",
        "  recal = i['문장 요약'].dropna().tolist()\n",
        "  for j in range(len(recal)):\n",
        "    recal[j] = recal[j].replace('\\n','')\n",
        "  long_list.append(recal)\n",
        "long_list[:2]"
      ],
      "metadata": {
        "colab": {
          "base_uri": "https://localhost:8080/"
        },
        "id": "OxFWYBiJSZg7",
        "outputId": "f1314bbc-7a10-4101-8206-18569290a9f8"
      },
      "execution_count": 6,
      "outputs": [
        {
          "output_type": "execute_result",
          "data": {
            "text/plain": [
              "[['정부가 맞춤형 광고에 사용되는 개인정보 처리 투명성을 높인다. 앞으로 광고 사업자와 광고 매체 사업자는 종전보다 명확한 개인정보 처리 규정을 지켜야 한다. 이용자는 자신의 정보가 어떻게 이용됐는지 구체적으로 확인할 수 있다. 정부는 민·관 협의체를 구성해 정보 처리 투명성을 더 높일 계획이다.',\n",
              "  '카카오톡 선물하기에서 선물 받은 모바일 교환권을 삼성페이와 연동할 수 있다. 선물함에서 모바일 교환권 하단의 삼성페이 버튼만 누르면 삼성페이에 자동 저장된다.',\n",
              "  'KAIST는 이상완 뇌인지과학과 교수 연구팀이 인간의 빠른 추론 능력을 유도해 인과관계의 학습 효율을 향상할 수 있는 뇌 기반 인공지능 기술 개발에 성공했다고 31일 밝혔다.',\n",
              "  \"인간 줄기세포로 만든 뇌조직(미니 뇌)을 전자칩에 연결한 '브레인웨이'를 구축해 간단한 계산 작업을 수행하는데 성공했다.\",\n",
              "  \"네이버페이와 카카오페이(377300)가 '전월세대출 갈아타기' 서비스를 출시한다고 31일 밝혔다. 앞서 양사는 지난 9일 '주택담보대출 갈아타기' 서비스를 동시에 내놓은 바 있다.\",\n",
              "  '카카오의 위치 기반 라이프플랫폼 카카오맵은 백화점, 아울렛, 대형 쇼핑몰 등 국내 주요 복합상업시설 100여곳에 대한 실내지도 서비스를 실시한다고 31일 밝혔다.',\n",
              "  '사람의 뇌에 칩을 심어 질병과 장애를 극복하는 공상과학(SF) 영화가 현실이 되고 있다.머스크는 29일 X에 “어제 칩 이식을 받은 환자가 잘 회복하고 있다”며 “뉴런(신경세포)의 신호인 스파이크가 감지되는 등 초기 결과는 양호한 편”이라고 했다. ',\n",
              "  '중고거래 플랫폼 사용량의 급증으로 중고물품 피해사례도 급증하고 있다. ',\n",
              "  '프랑스·독일의 음악가 열에 일곱은 생성형 인공지능(AI)으로 생계에 위협을 느낀다는 여론조사 결과가 30일(현지시간) 공개됐다.',\n",
              "  \"AI 모델들이 저작물을 무단 학습하는 것을 막기 위한 '나이트셰이드(Nightshade)'라는 소프트웨어 도구를 공개했다.\"],\n",
              " ['인공지능(AI)이 장문의 정보공개 청구 내용을 짧게 요약하고, 과거 유사 처리 내역도 자동으로 찾아 처리방향을 제시하는 업무지원 모델이 개발돼 행정 현장에 활용된다.',\n",
              "  'SXSW 2024 혁신상 오디오 경험 부문 파이널리스트에 선정된 가우디오랩의 Just Voice는 AI가 실시간으로 소음을 제거해 깔끔하고 또렷한 목소리를 들려주는 소프트웨어다.',\n",
              "  '디지털 헬스케어 스타트업 픽셀로는 병원을 방문하기 전 스스로 눈 건강을 체크하고 보호할 수 있는 디지털 아이케어 솔루션을 개발하고 있다.',\n",
              "  '지난 6일 구글과 스탠퍼드대학 공동연구팀이 사람이 로봇을 입고 집안일을 20~50회 반복하면 로봇의 AI가 동작을 학습해 스스로 집안일과 요리, 인간과 상호작용 등 다양한 작업을 수행할 수 있는 모바일 알로하 프로젝트를 발표했다.',\n",
              "  'JAXA, 달 탐사선 슬림이 촬영한 사진 공개토이 푸들·불독·카이켄 등 암석에 별명 붙여',\n",
              "  '플랫폼 공정경쟁촉진법(시장 지배적 플랫폼 사업자에 대한 사전규제 법안) 의 정부안이 내달 중 공개될 예정이나 이의 부작용에 대한 반대의 목소리가 높아지고 있다.',\n",
              "  '반지만 껴도 심박수·수면 관리를 자동으로개인 체온 변화 감지, 감염성 질병 탐지에 효과적',\n",
              "  '뇌에 칩을 연결해서 생각만으로 몸을 움직이게 하는 기술을 연구중이다',\n",
              "  \"메타버스엔터테인먼트는 아이돌과 교감할 수 있는 경험을 제공해 팬덤을 강화하기 위해 '챗 시우(Chat SIU:)'를 선보였다. \",\n",
              "  '이에 대해 오픈 AI는 NYT가 악의적인 프롬프트 조작으로 일종의 버그 현상인 ‘역류(regurgitation)’를 유발했다고 반박했다. 역류란 대규모 생성형 AI 모델에 동일한 데이터가 훈련 과정에서 여러 번 입력되면, 해당 데이터를 암기(memorization)했다가 그대로 뱉어낼 확률이 높아지는 오류 현상을 말한다(본지 2023년 9월27일자 5면 ‘노혜령의 Media Big Read’ 시리즈 5편 참조). 암기가 증명되면 저작권 위반이 될 수 있다',\n",
              "  '자국 레포트에 따르면, 중국에서 40개가 넘는 ai 모델을 개발했고, Xiaomi, 4Paradigm, and 01.AI.에 ai모델 포함을 승인받았다.',\n",
              "  '조지아공대 통합암연구센터(ICRC) 연구진이 기계학습과 혈액에 대한 정보를 결합해 93%의 정확도로 난소암을 감지하는 기술을 개발했다고 29일(현지 시각) 밝혔다.']]"
            ]
          },
          "metadata": {},
          "execution_count": 6
        }
      ]
    },
    {
      "cell_type": "code",
      "source": [
        "text_list = []\n",
        "for i in long_list:\n",
        "  for j in i:\n",
        "    text_list.append(j)\n",
        "text_list[:2]"
      ],
      "metadata": {
        "colab": {
          "base_uri": "https://localhost:8080/"
        },
        "id": "9ToSlDkwYqDK",
        "outputId": "59b940db-fd86-4abb-d806-dc6a4824c69a"
      },
      "execution_count": 7,
      "outputs": [
        {
          "output_type": "execute_result",
          "data": {
            "text/plain": [
              "['정부가 맞춤형 광고에 사용되는 개인정보 처리 투명성을 높인다. 앞으로 광고 사업자와 광고 매체 사업자는 종전보다 명확한 개인정보 처리 규정을 지켜야 한다. 이용자는 자신의 정보가 어떻게 이용됐는지 구체적으로 확인할 수 있다. 정부는 민·관 협의체를 구성해 정보 처리 투명성을 더 높일 계획이다.',\n",
              " '카카오톡 선물하기에서 선물 받은 모바일 교환권을 삼성페이와 연동할 수 있다. 선물함에서 모바일 교환권 하단의 삼성페이 버튼만 누르면 삼성페이에 자동 저장된다.']"
            ]
          },
          "metadata": {},
          "execution_count": 7
        }
      ]
    },
    {
      "cell_type": "markdown",
      "source": [
        "### 형태소 분리"
      ],
      "metadata": {
        "id": "t17BGMb0ahck"
      }
    },
    {
      "cell_type": "code",
      "source": [
        "import pickle"
      ],
      "metadata": {
        "id": "JDBnjVZRTnb6"
      },
      "execution_count": 8,
      "outputs": []
    },
    {
      "cell_type": "code",
      "source": [
        "! pip install konlpy"
      ],
      "metadata": {
        "colab": {
          "base_uri": "https://localhost:8080/"
        },
        "id": "qitiD432V7Py",
        "outputId": "1a4e2579-a4e6-41a4-e6fd-9c0595cf320d"
      },
      "execution_count": 21,
      "outputs": [
        {
          "output_type": "stream",
          "name": "stdout",
          "text": [
            "Collecting konlpy\n",
            "  Downloading konlpy-0.6.0-py2.py3-none-any.whl (19.4 MB)\n",
            "\u001b[2K     \u001b[90m━━━━━━━━━━━━━━━━━━━━━━━━━━━━━━━━━━━━━━━━\u001b[0m \u001b[32m19.4/19.4 MB\u001b[0m \u001b[31m53.4 MB/s\u001b[0m eta \u001b[36m0:00:00\u001b[0m\n",
            "\u001b[?25hCollecting JPype1>=0.7.0 (from konlpy)\n",
            "  Downloading JPype1-1.5.0-cp310-cp310-manylinux_2_17_x86_64.manylinux2014_x86_64.whl (488 kB)\n",
            "\u001b[2K     \u001b[90m━━━━━━━━━━━━━━━━━━━━━━━━━━━━━━━━━━━━━━━━\u001b[0m \u001b[32m488.6/488.6 kB\u001b[0m \u001b[31m44.3 MB/s\u001b[0m eta \u001b[36m0:00:00\u001b[0m\n",
            "\u001b[?25hRequirement already satisfied: lxml>=4.1.0 in /usr/local/lib/python3.10/dist-packages (from konlpy) (4.9.4)\n",
            "Requirement already satisfied: numpy>=1.6 in /usr/local/lib/python3.10/dist-packages (from konlpy) (1.25.2)\n",
            "Requirement already satisfied: packaging in /usr/local/lib/python3.10/dist-packages (from JPype1>=0.7.0->konlpy) (23.2)\n",
            "Installing collected packages: JPype1, konlpy\n",
            "Successfully installed JPype1-1.5.0 konlpy-0.6.0\n"
          ]
        }
      ]
    },
    {
      "cell_type": "code",
      "source": [
        "from konlpy.tag import Okt\n",
        "okt = Okt()\n",
        "def okt_clean(text):\n",
        "    clean_text = []\n",
        "    for word in okt.pos(text, stem=True):\n",
        "        if word[1] not in ['Josa', 'Eomi', 'Punctuation']:\n",
        "            clean_text.append(word[0])\n",
        "\n",
        "    return \" \".join(clean_text)"
      ],
      "metadata": {
        "id": "5l6zlvOtWavr"
      },
      "execution_count": 9,
      "outputs": []
    },
    {
      "cell_type": "code",
      "source": [
        "# with open('ynanewstitles_func_okt.pkl','rb') as pickle_file:\n",
        "#   okt_clean = pickle.load(pickle_file)"
      ],
      "metadata": {
        "id": "IR1bydmyUON7"
      },
      "execution_count": 24,
      "outputs": []
    },
    {
      "cell_type": "code",
      "source": [
        "df_text = pd.DataFrame(data=text_list, columns=['문장 요약'])\n",
        "df_text"
      ],
      "metadata": {
        "colab": {
          "base_uri": "https://localhost:8080/",
          "height": 424
        },
        "id": "lhG4BX93Uamh",
        "outputId": "21c16cab-533c-4b43-b0f4-2225fe2a6466"
      },
      "execution_count": 10,
      "outputs": [
        {
          "output_type": "execute_result",
          "data": {
            "text/plain": [
              "                                                 문장 요약\n",
              "0    정부가 맞춤형 광고에 사용되는 개인정보 처리 투명성을 높인다. 앞으로 광고 사업자와...\n",
              "1    카카오톡 선물하기에서 선물 받은 모바일 교환권을 삼성페이와 연동할 수 있다. 선물함...\n",
              "2    KAIST는 이상완 뇌인지과학과 교수 연구팀이 인간의 빠른 추론 능력을 유도해 인과...\n",
              "3    인간 줄기세포로 만든 뇌조직(미니 뇌)을 전자칩에 연결한 '브레인웨이'를 구축해 간...\n",
              "4    네이버페이와 카카오페이(377300)가 '전월세대출 갈아타기' 서비스를 출시한다고 ...\n",
              "..                                                 ...\n",
              "312  11번가 ST조직의 과제 AI로 해결 노력-탐색이 용이하도록 잘 구조화된 상품(Pr...\n",
              "313  갤럭시S24 시리즈가 자체 AI는 물론 'GPT-4'와 구글의 최신 AI 모델 '제...\n",
              "314  스노우플레이크의 자사인 마켓플레이스를 통해 다양한 산업군의 기업들이 데이터를 공유할...\n",
              "315  메타버스는 가상의 공간도 중요하지만, 사용자가 상호 작용할 수 있는 컨텐츠가 핵심....\n",
              "316  각종 문서의 초안을 만들고 각종 민원 또한 분석 후 요약해주는 등 더 신속하고 완벽...\n",
              "\n",
              "[317 rows x 1 columns]"
            ],
            "text/html": [
              "\n",
              "  <div id=\"df-11c8475e-4852-4e86-b6a0-f210de32de71\" class=\"colab-df-container\">\n",
              "    <div>\n",
              "<style scoped>\n",
              "    .dataframe tbody tr th:only-of-type {\n",
              "        vertical-align: middle;\n",
              "    }\n",
              "\n",
              "    .dataframe tbody tr th {\n",
              "        vertical-align: top;\n",
              "    }\n",
              "\n",
              "    .dataframe thead th {\n",
              "        text-align: right;\n",
              "    }\n",
              "</style>\n",
              "<table border=\"1\" class=\"dataframe\">\n",
              "  <thead>\n",
              "    <tr style=\"text-align: right;\">\n",
              "      <th></th>\n",
              "      <th>문장 요약</th>\n",
              "    </tr>\n",
              "  </thead>\n",
              "  <tbody>\n",
              "    <tr>\n",
              "      <th>0</th>\n",
              "      <td>정부가 맞춤형 광고에 사용되는 개인정보 처리 투명성을 높인다. 앞으로 광고 사업자와...</td>\n",
              "    </tr>\n",
              "    <tr>\n",
              "      <th>1</th>\n",
              "      <td>카카오톡 선물하기에서 선물 받은 모바일 교환권을 삼성페이와 연동할 수 있다. 선물함...</td>\n",
              "    </tr>\n",
              "    <tr>\n",
              "      <th>2</th>\n",
              "      <td>KAIST는 이상완 뇌인지과학과 교수 연구팀이 인간의 빠른 추론 능력을 유도해 인과...</td>\n",
              "    </tr>\n",
              "    <tr>\n",
              "      <th>3</th>\n",
              "      <td>인간 줄기세포로 만든 뇌조직(미니 뇌)을 전자칩에 연결한 '브레인웨이'를 구축해 간...</td>\n",
              "    </tr>\n",
              "    <tr>\n",
              "      <th>4</th>\n",
              "      <td>네이버페이와 카카오페이(377300)가 '전월세대출 갈아타기' 서비스를 출시한다고 ...</td>\n",
              "    </tr>\n",
              "    <tr>\n",
              "      <th>...</th>\n",
              "      <td>...</td>\n",
              "    </tr>\n",
              "    <tr>\n",
              "      <th>312</th>\n",
              "      <td>11번가 ST조직의 과제 AI로 해결 노력-탐색이 용이하도록 잘 구조화된 상품(Pr...</td>\n",
              "    </tr>\n",
              "    <tr>\n",
              "      <th>313</th>\n",
              "      <td>갤럭시S24 시리즈가 자체 AI는 물론 'GPT-4'와 구글의 최신 AI 모델 '제...</td>\n",
              "    </tr>\n",
              "    <tr>\n",
              "      <th>314</th>\n",
              "      <td>스노우플레이크의 자사인 마켓플레이스를 통해 다양한 산업군의 기업들이 데이터를 공유할...</td>\n",
              "    </tr>\n",
              "    <tr>\n",
              "      <th>315</th>\n",
              "      <td>메타버스는 가상의 공간도 중요하지만, 사용자가 상호 작용할 수 있는 컨텐츠가 핵심....</td>\n",
              "    </tr>\n",
              "    <tr>\n",
              "      <th>316</th>\n",
              "      <td>각종 문서의 초안을 만들고 각종 민원 또한 분석 후 요약해주는 등 더 신속하고 완벽...</td>\n",
              "    </tr>\n",
              "  </tbody>\n",
              "</table>\n",
              "<p>317 rows × 1 columns</p>\n",
              "</div>\n",
              "    <div class=\"colab-df-buttons\">\n",
              "\n",
              "  <div class=\"colab-df-container\">\n",
              "    <button class=\"colab-df-convert\" onclick=\"convertToInteractive('df-11c8475e-4852-4e86-b6a0-f210de32de71')\"\n",
              "            title=\"Convert this dataframe to an interactive table.\"\n",
              "            style=\"display:none;\">\n",
              "\n",
              "  <svg xmlns=\"http://www.w3.org/2000/svg\" height=\"24px\" viewBox=\"0 -960 960 960\">\n",
              "    <path d=\"M120-120v-720h720v720H120Zm60-500h600v-160H180v160Zm220 220h160v-160H400v160Zm0 220h160v-160H400v160ZM180-400h160v-160H180v160Zm440 0h160v-160H620v160ZM180-180h160v-160H180v160Zm440 0h160v-160H620v160Z\"/>\n",
              "  </svg>\n",
              "    </button>\n",
              "\n",
              "  <style>\n",
              "    .colab-df-container {\n",
              "      display:flex;\n",
              "      gap: 12px;\n",
              "    }\n",
              "\n",
              "    .colab-df-convert {\n",
              "      background-color: #E8F0FE;\n",
              "      border: none;\n",
              "      border-radius: 50%;\n",
              "      cursor: pointer;\n",
              "      display: none;\n",
              "      fill: #1967D2;\n",
              "      height: 32px;\n",
              "      padding: 0 0 0 0;\n",
              "      width: 32px;\n",
              "    }\n",
              "\n",
              "    .colab-df-convert:hover {\n",
              "      background-color: #E2EBFA;\n",
              "      box-shadow: 0px 1px 2px rgba(60, 64, 67, 0.3), 0px 1px 3px 1px rgba(60, 64, 67, 0.15);\n",
              "      fill: #174EA6;\n",
              "    }\n",
              "\n",
              "    .colab-df-buttons div {\n",
              "      margin-bottom: 4px;\n",
              "    }\n",
              "\n",
              "    [theme=dark] .colab-df-convert {\n",
              "      background-color: #3B4455;\n",
              "      fill: #D2E3FC;\n",
              "    }\n",
              "\n",
              "    [theme=dark] .colab-df-convert:hover {\n",
              "      background-color: #434B5C;\n",
              "      box-shadow: 0px 1px 3px 1px rgba(0, 0, 0, 0.15);\n",
              "      filter: drop-shadow(0px 1px 2px rgba(0, 0, 0, 0.3));\n",
              "      fill: #FFFFFF;\n",
              "    }\n",
              "  </style>\n",
              "\n",
              "    <script>\n",
              "      const buttonEl =\n",
              "        document.querySelector('#df-11c8475e-4852-4e86-b6a0-f210de32de71 button.colab-df-convert');\n",
              "      buttonEl.style.display =\n",
              "        google.colab.kernel.accessAllowed ? 'block' : 'none';\n",
              "\n",
              "      async function convertToInteractive(key) {\n",
              "        const element = document.querySelector('#df-11c8475e-4852-4e86-b6a0-f210de32de71');\n",
              "        const dataTable =\n",
              "          await google.colab.kernel.invokeFunction('convertToInteractive',\n",
              "                                                    [key], {});\n",
              "        if (!dataTable) return;\n",
              "\n",
              "        const docLinkHtml = 'Like what you see? Visit the ' +\n",
              "          '<a target=\"_blank\" href=https://colab.research.google.com/notebooks/data_table.ipynb>data table notebook</a>'\n",
              "          + ' to learn more about interactive tables.';\n",
              "        element.innerHTML = '';\n",
              "        dataTable['output_type'] = 'display_data';\n",
              "        await google.colab.output.renderOutput(dataTable, element);\n",
              "        const docLink = document.createElement('div');\n",
              "        docLink.innerHTML = docLinkHtml;\n",
              "        element.appendChild(docLink);\n",
              "      }\n",
              "    </script>\n",
              "  </div>\n",
              "\n",
              "\n",
              "<div id=\"df-566947ad-95e0-4985-a723-5afeaa8fcd66\">\n",
              "  <button class=\"colab-df-quickchart\" onclick=\"quickchart('df-566947ad-95e0-4985-a723-5afeaa8fcd66')\"\n",
              "            title=\"Suggest charts\"\n",
              "            style=\"display:none;\">\n",
              "\n",
              "<svg xmlns=\"http://www.w3.org/2000/svg\" height=\"24px\"viewBox=\"0 0 24 24\"\n",
              "     width=\"24px\">\n",
              "    <g>\n",
              "        <path d=\"M19 3H5c-1.1 0-2 .9-2 2v14c0 1.1.9 2 2 2h14c1.1 0 2-.9 2-2V5c0-1.1-.9-2-2-2zM9 17H7v-7h2v7zm4 0h-2V7h2v10zm4 0h-2v-4h2v4z\"/>\n",
              "    </g>\n",
              "</svg>\n",
              "  </button>\n",
              "\n",
              "<style>\n",
              "  .colab-df-quickchart {\n",
              "      --bg-color: #E8F0FE;\n",
              "      --fill-color: #1967D2;\n",
              "      --hover-bg-color: #E2EBFA;\n",
              "      --hover-fill-color: #174EA6;\n",
              "      --disabled-fill-color: #AAA;\n",
              "      --disabled-bg-color: #DDD;\n",
              "  }\n",
              "\n",
              "  [theme=dark] .colab-df-quickchart {\n",
              "      --bg-color: #3B4455;\n",
              "      --fill-color: #D2E3FC;\n",
              "      --hover-bg-color: #434B5C;\n",
              "      --hover-fill-color: #FFFFFF;\n",
              "      --disabled-bg-color: #3B4455;\n",
              "      --disabled-fill-color: #666;\n",
              "  }\n",
              "\n",
              "  .colab-df-quickchart {\n",
              "    background-color: var(--bg-color);\n",
              "    border: none;\n",
              "    border-radius: 50%;\n",
              "    cursor: pointer;\n",
              "    display: none;\n",
              "    fill: var(--fill-color);\n",
              "    height: 32px;\n",
              "    padding: 0;\n",
              "    width: 32px;\n",
              "  }\n",
              "\n",
              "  .colab-df-quickchart:hover {\n",
              "    background-color: var(--hover-bg-color);\n",
              "    box-shadow: 0 1px 2px rgba(60, 64, 67, 0.3), 0 1px 3px 1px rgba(60, 64, 67, 0.15);\n",
              "    fill: var(--button-hover-fill-color);\n",
              "  }\n",
              "\n",
              "  .colab-df-quickchart-complete:disabled,\n",
              "  .colab-df-quickchart-complete:disabled:hover {\n",
              "    background-color: var(--disabled-bg-color);\n",
              "    fill: var(--disabled-fill-color);\n",
              "    box-shadow: none;\n",
              "  }\n",
              "\n",
              "  .colab-df-spinner {\n",
              "    border: 2px solid var(--fill-color);\n",
              "    border-color: transparent;\n",
              "    border-bottom-color: var(--fill-color);\n",
              "    animation:\n",
              "      spin 1s steps(1) infinite;\n",
              "  }\n",
              "\n",
              "  @keyframes spin {\n",
              "    0% {\n",
              "      border-color: transparent;\n",
              "      border-bottom-color: var(--fill-color);\n",
              "      border-left-color: var(--fill-color);\n",
              "    }\n",
              "    20% {\n",
              "      border-color: transparent;\n",
              "      border-left-color: var(--fill-color);\n",
              "      border-top-color: var(--fill-color);\n",
              "    }\n",
              "    30% {\n",
              "      border-color: transparent;\n",
              "      border-left-color: var(--fill-color);\n",
              "      border-top-color: var(--fill-color);\n",
              "      border-right-color: var(--fill-color);\n",
              "    }\n",
              "    40% {\n",
              "      border-color: transparent;\n",
              "      border-right-color: var(--fill-color);\n",
              "      border-top-color: var(--fill-color);\n",
              "    }\n",
              "    60% {\n",
              "      border-color: transparent;\n",
              "      border-right-color: var(--fill-color);\n",
              "    }\n",
              "    80% {\n",
              "      border-color: transparent;\n",
              "      border-right-color: var(--fill-color);\n",
              "      border-bottom-color: var(--fill-color);\n",
              "    }\n",
              "    90% {\n",
              "      border-color: transparent;\n",
              "      border-bottom-color: var(--fill-color);\n",
              "    }\n",
              "  }\n",
              "</style>\n",
              "\n",
              "  <script>\n",
              "    async function quickchart(key) {\n",
              "      const quickchartButtonEl =\n",
              "        document.querySelector('#' + key + ' button');\n",
              "      quickchartButtonEl.disabled = true;  // To prevent multiple clicks.\n",
              "      quickchartButtonEl.classList.add('colab-df-spinner');\n",
              "      try {\n",
              "        const charts = await google.colab.kernel.invokeFunction(\n",
              "            'suggestCharts', [key], {});\n",
              "      } catch (error) {\n",
              "        console.error('Error during call to suggestCharts:', error);\n",
              "      }\n",
              "      quickchartButtonEl.classList.remove('colab-df-spinner');\n",
              "      quickchartButtonEl.classList.add('colab-df-quickchart-complete');\n",
              "    }\n",
              "    (() => {\n",
              "      let quickchartButtonEl =\n",
              "        document.querySelector('#df-566947ad-95e0-4985-a723-5afeaa8fcd66 button');\n",
              "      quickchartButtonEl.style.display =\n",
              "        google.colab.kernel.accessAllowed ? 'block' : 'none';\n",
              "    })();\n",
              "  </script>\n",
              "</div>\n",
              "\n",
              "  <div id=\"id_a1197518-b679-475a-b70d-672c426ee972\">\n",
              "    <style>\n",
              "      .colab-df-generate {\n",
              "        background-color: #E8F0FE;\n",
              "        border: none;\n",
              "        border-radius: 50%;\n",
              "        cursor: pointer;\n",
              "        display: none;\n",
              "        fill: #1967D2;\n",
              "        height: 32px;\n",
              "        padding: 0 0 0 0;\n",
              "        width: 32px;\n",
              "      }\n",
              "\n",
              "      .colab-df-generate:hover {\n",
              "        background-color: #E2EBFA;\n",
              "        box-shadow: 0px 1px 2px rgba(60, 64, 67, 0.3), 0px 1px 3px 1px rgba(60, 64, 67, 0.15);\n",
              "        fill: #174EA6;\n",
              "      }\n",
              "\n",
              "      [theme=dark] .colab-df-generate {\n",
              "        background-color: #3B4455;\n",
              "        fill: #D2E3FC;\n",
              "      }\n",
              "\n",
              "      [theme=dark] .colab-df-generate:hover {\n",
              "        background-color: #434B5C;\n",
              "        box-shadow: 0px 1px 3px 1px rgba(0, 0, 0, 0.15);\n",
              "        filter: drop-shadow(0px 1px 2px rgba(0, 0, 0, 0.3));\n",
              "        fill: #FFFFFF;\n",
              "      }\n",
              "    </style>\n",
              "    <button class=\"colab-df-generate\" onclick=\"generateWithVariable('df_text')\"\n",
              "            title=\"Generate code using this dataframe.\"\n",
              "            style=\"display:none;\">\n",
              "\n",
              "  <svg xmlns=\"http://www.w3.org/2000/svg\" height=\"24px\"viewBox=\"0 0 24 24\"\n",
              "       width=\"24px\">\n",
              "    <path d=\"M7,19H8.4L18.45,9,17,7.55,7,17.6ZM5,21V16.75L18.45,3.32a2,2,0,0,1,2.83,0l1.4,1.43a1.91,1.91,0,0,1,.58,1.4,1.91,1.91,0,0,1-.58,1.4L9.25,21ZM18.45,9,17,7.55Zm-12,3A5.31,5.31,0,0,0,4.9,8.1,5.31,5.31,0,0,0,1,6.5,5.31,5.31,0,0,0,4.9,4.9,5.31,5.31,0,0,0,6.5,1,5.31,5.31,0,0,0,8.1,4.9,5.31,5.31,0,0,0,12,6.5,5.46,5.46,0,0,0,6.5,12Z\"/>\n",
              "  </svg>\n",
              "    </button>\n",
              "    <script>\n",
              "      (() => {\n",
              "      const buttonEl =\n",
              "        document.querySelector('#id_a1197518-b679-475a-b70d-672c426ee972 button.colab-df-generate');\n",
              "      buttonEl.style.display =\n",
              "        google.colab.kernel.accessAllowed ? 'block' : 'none';\n",
              "\n",
              "      buttonEl.onclick = () => {\n",
              "        google.colab.notebook.generateWithVariable('df_text');\n",
              "      }\n",
              "      })();\n",
              "    </script>\n",
              "  </div>\n",
              "\n",
              "    </div>\n",
              "  </div>\n"
            ],
            "application/vnd.google.colaboratory.intrinsic+json": {
              "type": "dataframe",
              "variable_name": "df_text",
              "summary": "{\n  \"name\": \"df_text\",\n  \"rows\": 317,\n  \"fields\": [\n    {\n      \"column\": \"\\ubb38\\uc7a5 \\uc694\\uc57d\",\n      \"properties\": {\n        \"dtype\": \"string\",\n        \"samples\": [\n          \"\\uae00\\ub85c\\ubc8c \\uad11\\uace0 \\uc2dc\\uc7a5\\uc5d0\\uc11c \\uc0dd\\uc131\\ud615 AI\\ub97c \\ud65c\\uc6a9\\ud55c \\ub9de\\ucda4\\ud615 \\uad11\\uace0\\uac00 \\ub728\\uace0 \\uc788\\uc9c0\\ub9cc \\uad6d\\ub0b4 \\uc2dc\\uc7a5\\uc740 \\uc5ec\\uc804\\ud788 \\uae30\\uc131 \\uad11\\uace0\\uc5d0 \\uba38\\ubb3c\\ub7ec \\uc788\\ub294 \\ubaa8\\uc2b5\\uc774\\ub2e4. \\uad6d\\ub0b4 \\ucd5c\\ub300 \\uad11\\uace0\\uc0ac \\uc81c\\uc77c\\uae30\\ud68d\\uc740 \\ubb3c\\ub860 \\ub124\\uc774\\ubc84\\ub098 \\uce74\\uce74\\uc624 \\ub4f1 \\ud50c\\ub7ab\\ud3fc\\ub4e4\\ub3c4 \\uad11\\uace0\\uc5d0 \\uc0dd\\uc131\\ud615 AI\\ub97c \\ud65c\\uc6a9\\ud560 \\uacc4\\ud68d\\uc740 \\uac00\\uc9c0\\uace0 \\uc788\\uc73c\\ub098 \\uc2dc\\uc7a5 \\ubd84\\uc704\\uae30\\uc640 \\uaddc\\uc81c \\uc6b0\\ub824\\ub85c \\uc801\\uadf9\\uc801\\uc73c\\ub85c \\ub098\\uc11c\\uc9c4 \\ubabb\\ud558\\ub294 \\ubaa8\\uc2b5\\uc774\\ub2e4.\",\n          \"\\ubca0\\uc2a4\\ud540\\uae00\\ub85c\\ubc8c\\uc774 \\uc790\\uc0ac\\uc758 \\ub300\\ud654\\ud615 AI \\ud50c\\ub7ab\\ud3fc'\\ud5ec\\ud504\\ub098\\uc6b0'\\ub97c \\uae40\\ud3ec\\uad6d\\uc81c\\uacf5\\ud56d\\uc758 \\ucc57\\ubd07 \\uc2dc\\ubc94 \\uc11c\\ube44\\uc2a4\\uc5d0 \\uc801\\uc6a9\\ub418\\ub3c4\\ub85d \\uacf5\\uae09\\ud558\\uc5ec \\uc774\\uc6a9\\uac1d\\ub4e4\\uc774 \\uc790\\uc8fc \\ubb3b\\ub294 \\uc9c8\\ubb38\\uc5d0 \\ucd5c\\uc801\\uc758 \\ub2f5\\ubcc0\\uc744 \\uc81c\\uacf5\\ud55c\\ub2e4.\",\n          \"CJ\\ub300\\ud55c\\ud1b5\\uc6b4\\uc740 \\ub124\\uc774\\ubc84\\uc640 \\ud568\\uaed8 \\uad70\\ud3ec, \\ud480\\ud544\\uba3c\\ud2b8 \\uc13c\\ud130\\ub97c \\uad6c\\ucd95\\ud55c \\ub4a4 \\ubc30\\uc1a1 \\uc608\\uc815\\uc77c\\ubcf4\\ub2e4 \\ub2a6\\uc5b4\\uc9c0\\uba74 \\uc77c\\uc815 \\uae08\\uc561\\uc744 \\ubcf4\\uc0c1\\ud558\\ub294 '\\ub3c4\\ucc29\\ubcf4\\uc7a5' \\uc11c\\ube44\\uc2a4\\ub3c4 \\ub0b4\\ub1a8\\ub2e4.\\ud5a5\\ud6c4 \\ud310\\ub9e4\\uc790\\uc758 \\uc81c\\ud488 \\ud2b9\\uc131, \\uad6c\\ub9e4\\uc790 \\uc8fc\\ubb38 \\ud328\\ud134 \\ub4f1\\uc5d0 \\ub530\\ub77c \\uc77c\\uc694\\ubc30\\uc1a1 \\ubc0f \\ub2f9\\uc77c\\ubc30\\uc1a1 \\ub4f1 \\uc11c\\ube44\\uc2a4 \\ub2e4\\uc591\\ud654\\ub3c4 \\ucd94\\uc9c4\\ud560 \\uacc4\\ud68d\\uc774\\ub2e4.\"\n        ],\n        \"num_unique_values\": 316,\n        \"semantic_type\": \"\",\n        \"description\": \"\"\n      }\n    }\n  ]\n}"
            }
          },
          "metadata": {},
          "execution_count": 10
        }
      ]
    },
    {
      "cell_type": "code",
      "source": [
        "df_text['문장 요약_clean'] = df_text['문장 요약'].apply(okt_clean)"
      ],
      "metadata": {
        "id": "xE_sjousaF4D"
      },
      "execution_count": 11,
      "outputs": []
    },
    {
      "cell_type": "markdown",
      "source": [
        "### 문장 벡터화"
      ],
      "metadata": {
        "id": "jfnw-XJVak_i"
      }
    },
    {
      "cell_type": "code",
      "source": [
        "with open('ynanewstitles_vectorizer.pkl','rb') as pickle_file:\n",
        "  tfidfVectorizer = pickle.load(pickle_file)"
      ],
      "metadata": {
        "id": "xYRBR1pAZWNx"
      },
      "execution_count": 12,
      "outputs": []
    },
    {
      "cell_type": "code",
      "source": [
        "# tfidfVectorizer.fit(df_text['문장 요약_clean'])"
      ],
      "metadata": {
        "colab": {
          "base_uri": "https://localhost:8080/",
          "height": 75
        },
        "id": "u6IczjFQZwqz",
        "outputId": "5460768d-b2e1-4cc8-8384-ba7b1b994e14"
      },
      "execution_count": 54,
      "outputs": [
        {
          "output_type": "execute_result",
          "data": {
            "text/plain": [
              "TfidfVectorizer()"
            ],
            "text/html": [
              "<style>#sk-container-id-3 {color: black;background-color: white;}#sk-container-id-3 pre{padding: 0;}#sk-container-id-3 div.sk-toggleable {background-color: white;}#sk-container-id-3 label.sk-toggleable__label {cursor: pointer;display: block;width: 100%;margin-bottom: 0;padding: 0.3em;box-sizing: border-box;text-align: center;}#sk-container-id-3 label.sk-toggleable__label-arrow:before {content: \"▸\";float: left;margin-right: 0.25em;color: #696969;}#sk-container-id-3 label.sk-toggleable__label-arrow:hover:before {color: black;}#sk-container-id-3 div.sk-estimator:hover label.sk-toggleable__label-arrow:before {color: black;}#sk-container-id-3 div.sk-toggleable__content {max-height: 0;max-width: 0;overflow: hidden;text-align: left;background-color: #f0f8ff;}#sk-container-id-3 div.sk-toggleable__content pre {margin: 0.2em;color: black;border-radius: 0.25em;background-color: #f0f8ff;}#sk-container-id-3 input.sk-toggleable__control:checked~div.sk-toggleable__content {max-height: 200px;max-width: 100%;overflow: auto;}#sk-container-id-3 input.sk-toggleable__control:checked~label.sk-toggleable__label-arrow:before {content: \"▾\";}#sk-container-id-3 div.sk-estimator input.sk-toggleable__control:checked~label.sk-toggleable__label {background-color: #d4ebff;}#sk-container-id-3 div.sk-label input.sk-toggleable__control:checked~label.sk-toggleable__label {background-color: #d4ebff;}#sk-container-id-3 input.sk-hidden--visually {border: 0;clip: rect(1px 1px 1px 1px);clip: rect(1px, 1px, 1px, 1px);height: 1px;margin: -1px;overflow: hidden;padding: 0;position: absolute;width: 1px;}#sk-container-id-3 div.sk-estimator {font-family: monospace;background-color: #f0f8ff;border: 1px dotted black;border-radius: 0.25em;box-sizing: border-box;margin-bottom: 0.5em;}#sk-container-id-3 div.sk-estimator:hover {background-color: #d4ebff;}#sk-container-id-3 div.sk-parallel-item::after {content: \"\";width: 100%;border-bottom: 1px solid gray;flex-grow: 1;}#sk-container-id-3 div.sk-label:hover label.sk-toggleable__label {background-color: #d4ebff;}#sk-container-id-3 div.sk-serial::before {content: \"\";position: absolute;border-left: 1px solid gray;box-sizing: border-box;top: 0;bottom: 0;left: 50%;z-index: 0;}#sk-container-id-3 div.sk-serial {display: flex;flex-direction: column;align-items: center;background-color: white;padding-right: 0.2em;padding-left: 0.2em;position: relative;}#sk-container-id-3 div.sk-item {position: relative;z-index: 1;}#sk-container-id-3 div.sk-parallel {display: flex;align-items: stretch;justify-content: center;background-color: white;position: relative;}#sk-container-id-3 div.sk-item::before, #sk-container-id-3 div.sk-parallel-item::before {content: \"\";position: absolute;border-left: 1px solid gray;box-sizing: border-box;top: 0;bottom: 0;left: 50%;z-index: -1;}#sk-container-id-3 div.sk-parallel-item {display: flex;flex-direction: column;z-index: 1;position: relative;background-color: white;}#sk-container-id-3 div.sk-parallel-item:first-child::after {align-self: flex-end;width: 50%;}#sk-container-id-3 div.sk-parallel-item:last-child::after {align-self: flex-start;width: 50%;}#sk-container-id-3 div.sk-parallel-item:only-child::after {width: 0;}#sk-container-id-3 div.sk-dashed-wrapped {border: 1px dashed gray;margin: 0 0.4em 0.5em 0.4em;box-sizing: border-box;padding-bottom: 0.4em;background-color: white;}#sk-container-id-3 div.sk-label label {font-family: monospace;font-weight: bold;display: inline-block;line-height: 1.2em;}#sk-container-id-3 div.sk-label-container {text-align: center;}#sk-container-id-3 div.sk-container {/* jupyter's `normalize.less` sets `[hidden] { display: none; }` but bootstrap.min.css set `[hidden] { display: none !important; }` so we also need the `!important` here to be able to override the default hidden behavior on the sphinx rendered scikit-learn.org. See: https://github.com/scikit-learn/scikit-learn/issues/21755 */display: inline-block !important;position: relative;}#sk-container-id-3 div.sk-text-repr-fallback {display: none;}</style><div id=\"sk-container-id-3\" class=\"sk-top-container\"><div class=\"sk-text-repr-fallback\"><pre>TfidfVectorizer()</pre><b>In a Jupyter environment, please rerun this cell to show the HTML representation or trust the notebook. <br />On GitHub, the HTML representation is unable to render, please try loading this page with nbviewer.org.</b></div><div class=\"sk-container\" hidden><div class=\"sk-item\"><div class=\"sk-estimator sk-toggleable\"><input class=\"sk-toggleable__control sk-hidden--visually\" id=\"sk-estimator-id-3\" type=\"checkbox\" checked><label for=\"sk-estimator-id-3\" class=\"sk-toggleable__label sk-toggleable__label-arrow\">TfidfVectorizer</label><div class=\"sk-toggleable__content\"><pre>TfidfVectorizer()</pre></div></div></div></div></div>"
            ]
          },
          "metadata": {},
          "execution_count": 54
        }
      ]
    },
    {
      "cell_type": "markdown",
      "source": [
        "### 모델 로드"
      ],
      "metadata": {
        "id": "BXLCS5jUanrb"
      }
    },
    {
      "cell_type": "code",
      "source": [
        "with open('ynanewstitles_model.pkl','rb') as pickle_file:\n",
        "  model = pickle.load(pickle_file)"
      ],
      "metadata": {
        "id": "6ffK2VJNZ-oL"
      },
      "execution_count": 13,
      "outputs": []
    },
    {
      "cell_type": "markdown",
      "source": [
        "### 서비스 확인"
      ],
      "metadata": {
        "id": "9Aa1F1gDazTy"
      }
    },
    {
      "cell_type": "code",
      "source": [
        "text_predict_vector = tfidfVectorizer.transform(df_text['문장 요약_clean'])"
      ],
      "metadata": {
        "id": "A2sE7uqqmqjd"
      },
      "execution_count": 14,
      "outputs": []
    },
    {
      "cell_type": "code",
      "source": [
        "predict_list = model.predict(text_predict_vector)\n",
        "predict_list"
      ],
      "metadata": {
        "colab": {
          "base_uri": "https://localhost:8080/"
        },
        "id": "uLAW_Ggtatf6",
        "outputId": "f6f9c0b9-cd7f-44d3-b2cc-d5565bbf70cf"
      },
      "execution_count": 15,
      "outputs": [
        {
          "output_type": "execute_result",
          "data": {
            "text/plain": [
              "array([2., 0., 0., 0., 1., 0., 3., 2., 0., 0., 0., 0., 0., 0., 2., 2., 2.,\n",
              "       0., 6., 0., 0., 0., 2., 0., 0., 0., 0., 1., 0., 0., 0., 0., 0., 0.,\n",
              "       0., 2., 1., 0., 2., 0., 1., 2., 1., 0., 0., 0., 4., 2., 0., 0., 0.,\n",
              "       2., 0., 0., 0., 0., 2., 2., 0., 0., 2., 0., 6., 1., 0., 6., 2., 0.,\n",
              "       0., 0., 2., 0., 1., 2., 2., 1., 2., 0., 0., 0., 0., 1., 0., 3., 4.,\n",
              "       0., 0., 0., 0., 0., 0., 6., 0., 0., 0., 2., 0., 0., 0., 0., 2., 0.,\n",
              "       2., 0., 0., 0., 0., 0., 0., 6., 0., 0., 0., 0., 0., 0., 0., 0., 0.,\n",
              "       4., 0., 0., 3., 0., 0., 2., 0., 0., 0., 0., 0., 0., 0., 0., 2., 0.,\n",
              "       0., 0., 0., 0., 1., 6., 0., 4., 0., 0., 0., 0., 0., 2., 0., 2., 4.,\n",
              "       0., 0., 0., 0., 0., 0., 0., 1., 0., 1., 0., 2., 0., 2., 0., 0., 0.,\n",
              "       0., 0., 4., 1., 0., 1., 0., 0., 0., 0., 0., 0., 0., 1., 0., 0., 1.,\n",
              "       0., 6., 0., 0., 6., 0., 0., 0., 3., 2., 0., 0., 2., 0., 0., 0., 0.,\n",
              "       6., 0., 0., 0., 6., 0., 0., 0., 0., 2., 0., 0., 2., 2., 2., 0., 4.,\n",
              "       0., 4., 2., 0., 0., 0., 0., 2., 2., 2., 1., 4., 1., 0., 0., 0., 0.,\n",
              "       2., 0., 0., 6., 0., 0., 0., 0., 1., 0., 0., 0., 0., 2., 2., 0., 0.,\n",
              "       2., 0., 0., 0., 0., 0., 0., 4., 0., 0., 0., 0., 0., 0., 6., 2., 0.,\n",
              "       2., 4., 6., 1., 1., 0., 0., 0., 0., 1., 3., 0., 0., 0., 0., 1., 0.,\n",
              "       0., 4., 1., 1., 0., 0., 0., 0., 0., 0., 0., 1., 0., 0., 0., 2., 0.,\n",
              "       0., 0., 0., 6., 0., 6., 0., 0., 0., 0., 0.])"
            ]
          },
          "metadata": {},
          "execution_count": 15
        }
      ]
    },
    {
      "cell_type": "code",
      "source": [
        "topic_dic ={\n",
        "    0\t:'IT과학',\n",
        "    1\t:'경제',\n",
        "    2\t:'사회',\n",
        "    3\t:'생활문화',\n",
        "    4\t:'세계',\n",
        "    5\t:'스포츠',\n",
        "    6\t:'정치'\n",
        "}\n",
        "cloud_list = []\n",
        "for i in predict_list:\n",
        "  cloud_list.append(topic_dic.get(i,False))"
      ],
      "metadata": {
        "id": "4GYKlej-bHcJ"
      },
      "execution_count": 16,
      "outputs": []
    },
    {
      "cell_type": "code",
      "source": [
        "from collections import Counter"
      ],
      "metadata": {
        "id": "cJhy4Hkcbx6E"
      },
      "execution_count": 17,
      "outputs": []
    },
    {
      "cell_type": "code",
      "source": [
        "text_split_count = Counter(cloud_list)"
      ],
      "metadata": {
        "id": "chgYBTYXcRbS"
      },
      "execution_count": 18,
      "outputs": []
    },
    {
      "cell_type": "code",
      "source": [
        "text_split_count"
      ],
      "metadata": {
        "colab": {
          "base_uri": "https://localhost:8080/"
        },
        "id": "mxoazxS3q_Yf",
        "outputId": "31d75dfe-87f1-493f-82e4-6b6eaab952c3"
      },
      "execution_count": 23,
      "outputs": [
        {
          "output_type": "execute_result",
          "data": {
            "text/plain": [
              "Counter({'사회': 45, 'IT과학': 214, '경제': 26, '생활문화': 5, '정치': 15, '세계': 12})"
            ]
          },
          "metadata": {},
          "execution_count": 23
        }
      ]
    },
    {
      "cell_type": "markdown",
      "source": [
        "### 워드 클라우드"
      ],
      "metadata": {
        "id": "sPYGiR0cce5T"
      }
    },
    {
      "cell_type": "code",
      "source": [
        "from wordcloud import WordCloud"
      ],
      "metadata": {
        "id": "ckGFsWdlcgGb"
      },
      "execution_count": 19,
      "outputs": []
    },
    {
      "cell_type": "code",
      "source": [
        "wc = WordCloud(background_color='white', font_path='/usr/share/fonts/truetype/nanum/NanumBarunGothic.ttf')"
      ],
      "metadata": {
        "id": "TBTw8uFrchsK"
      },
      "execution_count": 20,
      "outputs": []
    },
    {
      "cell_type": "code",
      "source": [
        "wc.generate_from_frequencies(text_split_count)"
      ],
      "metadata": {
        "colab": {
          "base_uri": "https://localhost:8080/"
        },
        "id": "yXIwTZIWckKD",
        "outputId": "0f8ae99a-20b6-457f-fd3a-8f171c38f7ea"
      },
      "execution_count": 21,
      "outputs": [
        {
          "output_type": "execute_result",
          "data": {
            "text/plain": [
              "<wordcloud.wordcloud.WordCloud at 0x7885359ba7d0>"
            ]
          },
          "metadata": {},
          "execution_count": 21
        }
      ]
    },
    {
      "cell_type": "code",
      "source": [
        "import matplotlib.pyplot as plt\n",
        "plt.imshow(wc)\n",
        "plt.axis('off')\n",
        "plt.show()"
      ],
      "metadata": {
        "colab": {
          "base_uri": "https://localhost:8080/",
          "height": 285
        },
        "id": "0AgWtpOCcmpa",
        "outputId": "24c09820-4411-4f32-dad3-9405d7cf17cd"
      },
      "execution_count": 22,
      "outputs": [
        {
          "output_type": "display_data",
          "data": {
            "text/plain": [
              "<Figure size 640x480 with 1 Axes>"
            ],
            "image/png": "[encoded data removed]"
          },
          "metadata": {}
        }
      ]
    }
  ]
}