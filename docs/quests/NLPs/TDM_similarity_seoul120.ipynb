{
 "cells": [
  {
   "cell_type": "markdown",
   "id": "58338b7c-68ea-402a-ac14-f00adb40e3a4",
   "metadata": {},
   "source": [
    "# 자연어 전처리"
   ]
  },
  {
   "cell_type": "code",
   "execution_count": 1,
   "id": "9b51aaf5-c726-4c85-b550-e05286c8bcb7",
   "metadata": {},
   "outputs": [],
   "source": [
    "stopwords=[]"
   ]
  },
  {
   "cell_type": "code",
   "execution_count": 2,
   "id": "e6b4053d-e919-4110-b7c2-7c9e634c9548",
   "metadata": {},
   "outputs": [],
   "source": [
    "# 토크나이징 함수 정의\n",
    "from konlpy.tag import Okt\n",
    "okt= Okt()\n",
    "def tokenizer(raw, pos=[\"Noun\",\"Alpha\",\"Verb\",\"Number\",\"Foreign\"], stopword=stopwords):\n",
    "    return [\n",
    "        word for word, tag in okt.pos(\n",
    "            raw, \n",
    "            norm=True,   # normalize 그랰ㅋㅏ -> 그래ㅋㅋ\n",
    "            stem=True    # stemming 바뀌나->바뀌다\n",
    "            )\n",
    "            if len(word) > 1 and tag in pos and word not in stopword\n",
    "\n",
    "    ]"
   ]
  },
  {
   "cell_type": "code",
   "execution_count": 3,
   "id": "1379e189-cf34-4204-afb7-dc58b3adc0d8",
   "metadata": {},
   "outputs": [],
   "source": [
    "import pandas as pd"
   ]
  },
  {
   "cell_type": "code",
   "execution_count": 4,
   "id": "bc3ef135-b313-499d-a10c-5a88537dafae",
   "metadata": {},
   "outputs": [
    {
     "data": {
      "text/html": [
       "<div>\n",
       "<style scoped>\n",
       "    .dataframe tbody tr th:only-of-type {\n",
       "        vertical-align: middle;\n",
       "    }\n",
       "\n",
       "    .dataframe tbody tr th {\n",
       "        vertical-align: top;\n",
       "    }\n",
       "\n",
       "    .dataframe thead th {\n",
       "        text-align: right;\n",
       "    }\n",
       "</style>\n",
       "<table border=\"1\" class=\"dataframe\">\n",
       "  <thead>\n",
       "    <tr style=\"text-align: right;\">\n",
       "      <th></th>\n",
       "      <th>번호</th>\n",
       "      <th>분류</th>\n",
       "      <th>제목</th>\n",
       "      <th>내용</th>\n",
       "      <th>내용번호</th>\n",
       "    </tr>\n",
       "  </thead>\n",
       "  <tbody>\n",
       "    <tr>\n",
       "      <th>0</th>\n",
       "      <td>2645</td>\n",
       "      <td>복지</td>\n",
       "      <td>아빠 육아휴직 장려금</td>\n",
       "      <td>아빠 육아휴직 장려금   업무개요  남성근로자의 육아휴직을 장려하고 양육에 따른 경...</td>\n",
       "      <td>23522464</td>\n",
       "    </tr>\n",
       "    <tr>\n",
       "      <th>1</th>\n",
       "      <td>2644</td>\n",
       "      <td>경제</td>\n",
       "      <td>[서울산업진흥원] 서울메이드란?</td>\n",
       "      <td>서울산업진흥원 서울메이드란 서울의 감성을 담은 다양하고 새로운 경험을 제공하기 위해...</td>\n",
       "      <td>23194045</td>\n",
       "    </tr>\n",
       "    <tr>\n",
       "      <th>2</th>\n",
       "      <td>2643</td>\n",
       "      <td>환경</td>\n",
       "      <td>(강북구) 정비중</td>\n",
       "      <td>강북구 정비중  업무개요  투명 폐트병을 교환보상하므로 수거율을 높이고 폐기물을 감...</td>\n",
       "      <td>23032485</td>\n",
       "    </tr>\n",
       "    <tr>\n",
       "      <th>3</th>\n",
       "      <td>2642</td>\n",
       "      <td>복지</td>\n",
       "      <td>광진맘택시 운영(임산부,영아 양육가정 전용 택시)</td>\n",
       "      <td>광진맘택시 운영임산부영아 양육가정 전용 택시  업무개요 교통약자인 임산부와 영아가정...</td>\n",
       "      <td>22904492</td>\n",
       "    </tr>\n",
       "    <tr>\n",
       "      <th>4</th>\n",
       "      <td>2641</td>\n",
       "      <td>복지</td>\n",
       "      <td>마포 뇌병변장애인 비전센터</td>\n",
       "      <td>마포 뇌병변장애인 비전센터 마포뇌병변장애인 비전센터 운영   구분 내용  목적  학...</td>\n",
       "      <td>22477798</td>\n",
       "    </tr>\n",
       "    <tr>\n",
       "      <th>...</th>\n",
       "      <td>...</td>\n",
       "      <td>...</td>\n",
       "      <td>...</td>\n",
       "      <td>...</td>\n",
       "      <td>...</td>\n",
       "    </tr>\n",
       "    <tr>\n",
       "      <th>2640</th>\n",
       "      <td>5</td>\n",
       "      <td>주택도시계획</td>\n",
       "      <td>이미 지정된 재정비촉진지구의 인접지를 추가 확장하고 싶은데 어떻게 해야 하나요?</td>\n",
       "      <td>이미 지정된 재정비촉진지구의 인접지를 추가 확장하고 싶은데 어떻게 해야 하나요 관할...</td>\n",
       "      <td>2894353</td>\n",
       "    </tr>\n",
       "    <tr>\n",
       "      <th>2641</th>\n",
       "      <td>4</td>\n",
       "      <td>환경</td>\n",
       "      <td>수돗물의 톤당 원가는?</td>\n",
       "      <td>수돗물의 톤당 원가는우리시 년 톤당 원가는 원 입니다 우리시 년 톤당 요금은 원 입니다</td>\n",
       "      <td>19353862</td>\n",
       "    </tr>\n",
       "    <tr>\n",
       "      <th>2642</th>\n",
       "      <td>3</td>\n",
       "      <td>복지</td>\n",
       "      <td>출산휴가후 집근처에 안심하고 맡길 수 있는 어린이집이 있는지?</td>\n",
       "      <td>출산휴가후 집근처에 안심하고 맡길 수 있는 어린이집이 있는지   서울시 육아종합지원...</td>\n",
       "      <td>19699584</td>\n",
       "    </tr>\n",
       "    <tr>\n",
       "      <th>2643</th>\n",
       "      <td>2</td>\n",
       "      <td>교통</td>\n",
       "      <td>자동차검사장을 지정받고자 하는데 어떻게 해야 하나요?</td>\n",
       "      <td>자동차검사장을 지정받고자 하는데 어떻게 해야 하나요  자동차종합정비업체 소형자동차정...</td>\n",
       "      <td>2898293</td>\n",
       "    </tr>\n",
       "    <tr>\n",
       "      <th>2644</th>\n",
       "      <td>1</td>\n",
       "      <td>환경</td>\n",
       "      <td>폐기대상 문서의 폐기는 어떻게 하나요?</td>\n",
       "      <td>폐기대상 문서의 폐기는 어떻게 하나요보존기간이 경과된 문서의 폐기는 정보공개정책과로...</td>\n",
       "      <td>19431143</td>\n",
       "    </tr>\n",
       "  </tbody>\n",
       "</table>\n",
       "<p>2645 rows × 5 columns</p>\n",
       "</div>"
      ],
      "text/plain": [
       "        번호      분류                                            제목  \\\n",
       "0     2645      복지                                   아빠 육아휴직 장려금   \n",
       "1     2644      경제                             [서울산업진흥원] 서울메이드란?   \n",
       "2     2643      환경                                     (강북구) 정비중   \n",
       "3     2642      복지                   광진맘택시 운영(임산부,영아 양육가정 전용 택시)   \n",
       "4     2641      복지                                마포 뇌병변장애인 비전센터   \n",
       "...    ...     ...                                           ...   \n",
       "2640     5  주택도시계획  이미 지정된 재정비촉진지구의 인접지를 추가 확장하고 싶은데 어떻게 해야 하나요?   \n",
       "2641     4      환경                                  수돗물의 톤당 원가는?   \n",
       "2642     3      복지            출산휴가후 집근처에 안심하고 맡길 수 있는 어린이집이 있는지?   \n",
       "2643     2      교통                 자동차검사장을 지정받고자 하는데 어떻게 해야 하나요?   \n",
       "2644     1      환경                         폐기대상 문서의 폐기는 어떻게 하나요?   \n",
       "\n",
       "                                                     내용      내용번호  \n",
       "0     아빠 육아휴직 장려금   업무개요  남성근로자의 육아휴직을 장려하고 양육에 따른 경...  23522464  \n",
       "1     서울산업진흥원 서울메이드란 서울의 감성을 담은 다양하고 새로운 경험을 제공하기 위해...  23194045  \n",
       "2     강북구 정비중  업무개요  투명 폐트병을 교환보상하므로 수거율을 높이고 폐기물을 감...  23032485  \n",
       "3     광진맘택시 운영임산부영아 양육가정 전용 택시  업무개요 교통약자인 임산부와 영아가정...  22904492  \n",
       "4     마포 뇌병변장애인 비전센터 마포뇌병변장애인 비전센터 운영   구분 내용  목적  학...  22477798  \n",
       "...                                                 ...       ...  \n",
       "2640  이미 지정된 재정비촉진지구의 인접지를 추가 확장하고 싶은데 어떻게 해야 하나요 관할...   2894353  \n",
       "2641  수돗물의 톤당 원가는우리시 년 톤당 원가는 원 입니다 우리시 년 톤당 요금은 원 입니다   19353862  \n",
       "2642  출산휴가후 집근처에 안심하고 맡길 수 있는 어린이집이 있는지   서울시 육아종합지원...  19699584  \n",
       "2643  자동차검사장을 지정받고자 하는데 어떻게 해야 하나요  자동차종합정비업체 소형자동차정...   2898293  \n",
       "2644  폐기대상 문서의 폐기는 어떻게 하나요보존기간이 경과된 문서의 폐기는 정보공개정책과로...  19431143  \n",
       "\n",
       "[2645 rows x 5 columns]"
      ]
     },
     "execution_count": 4,
     "metadata": {},
     "output_type": "execute_result"
    }
   ],
   "source": [
    "get_data = pd.read_csv(\"https://bit.ly/seoul-120-text-csv\")\n",
    "get_data"
   ]
  },
  {
   "cell_type": "code",
   "execution_count": 5,
   "id": "a243a01c-4d51-48b9-9ba4-0c361b4d34f3",
   "metadata": {},
   "outputs": [],
   "source": [
    "# tokenizing\n",
    "from sklearn.feature_extraction.text import TfidfVectorizer\n",
    "tfidVectorizer = TfidfVectorizer(tokenizer=tokenizer)"
   ]
  },
  {
   "cell_type": "code",
   "execution_count": 6,
   "id": "aa6e4cc2-dbea-492c-9e99-ec9c31737a3c",
   "metadata": {},
   "outputs": [
    {
     "name": "stderr",
     "output_type": "stream",
     "text": [
      "/usr/local/lib/python3.11/site-packages/sklearn/feature_extraction/text.py:525: UserWarning: The parameter 'token_pattern' will not be used since 'tokenizer' is not None'\n",
      "  warnings.warn(\n"
     ]
    },
    {
     "data": {
      "text/plain": [
       "array([[0., 0., 0., ..., 0., 0., 0.],\n",
       "       [0., 0., 0., ..., 0., 0., 0.]])"
      ]
     },
     "execution_count": 6,
     "metadata": {},
     "output_type": "execute_result"
    }
   ],
   "source": [
    "features = tfidVectorizer.fit_transform(get_data['내용'])\n",
    "features.toarray()[:2]"
   ]
  },
  {
   "cell_type": "markdown",
   "id": "3643fccc-6a60-4c09-8521-0d24577d5547",
   "metadata": {},
   "source": [
    "# 유사도 확인"
   ]
  },
  {
   "cell_type": "code",
   "execution_count": 7,
   "id": "848a638b-46c9-44b2-89aa-4b5c68d01c3b",
   "metadata": {},
   "outputs": [],
   "source": [
    "from sklearn.metrics.pairwise import cosine_similarity"
   ]
  },
  {
   "cell_type": "code",
   "execution_count": 18,
   "id": "1b073236-8dd2-4bc1-bae0-18c8ba2f2c92",
   "metadata": {},
   "outputs": [
    {
     "data": {
      "text/plain": [
       "array([[0., 0., 0., ..., 0., 0., 0.]])"
      ]
     },
     "execution_count": 18,
     "metadata": {},
     "output_type": "execute_result"
    }
   ],
   "source": [
    "features.toarray()[1772:1773]"
   ]
  },
  {
   "cell_type": "code",
   "execution_count": 9,
   "id": "6cbcdc2b-9823-4630-9d77-8c9206c8317c",
   "metadata": {},
   "outputs": [
    {
     "data": {
      "text/plain": [
       "1"
      ]
     },
     "execution_count": 9,
     "metadata": {},
     "output_type": "execute_result"
    }
   ],
   "source": [
    "result = cosine_similarity(features.toarray()[1772:1773], features.toarray())\n",
    "len(result)"
   ]
  },
  {
   "cell_type": "code",
   "execution_count": 10,
   "id": "aad850fb-eb62-4e70-8505-ecc79b296b4a",
   "metadata": {},
   "outputs": [
    {
     "data": {
      "text/plain": [
       "array([[1.        , 0.00570703, 0.02195183, ..., 0.0209912 , 0.01709235,\n",
       "        0.01261128]])"
      ]
     },
     "execution_count": 10,
     "metadata": {},
     "output_type": "execute_result"
    }
   ],
   "source": [
    "result"
   ]
  },
  {
   "cell_type": "code",
   "execution_count": 11,
   "id": "d766cf4b-6272-4348-9a9b-626fd3a71ff9",
   "metadata": {},
   "outputs": [],
   "source": [
    "get_data['유사도'] = result[0]"
   ]
  },
  {
   "cell_type": "code",
   "execution_count": 12,
   "id": "561e2166-a4f4-4e77-9510-f8ea36f53054",
   "metadata": {},
   "outputs": [
    {
     "data": {
      "text/html": [
       "<div>\n",
       "<style scoped>\n",
       "    .dataframe tbody tr th:only-of-type {\n",
       "        vertical-align: middle;\n",
       "    }\n",
       "\n",
       "    .dataframe tbody tr th {\n",
       "        vertical-align: top;\n",
       "    }\n",
       "\n",
       "    .dataframe thead th {\n",
       "        text-align: right;\n",
       "    }\n",
       "</style>\n",
       "<table border=\"1\" class=\"dataframe\">\n",
       "  <thead>\n",
       "    <tr style=\"text-align: right;\">\n",
       "      <th></th>\n",
       "      <th>번호</th>\n",
       "      <th>분류</th>\n",
       "      <th>제목</th>\n",
       "      <th>내용</th>\n",
       "      <th>내용번호</th>\n",
       "      <th>유사도</th>\n",
       "    </tr>\n",
       "  </thead>\n",
       "  <tbody>\n",
       "    <tr>\n",
       "      <th>0</th>\n",
       "      <td>2645</td>\n",
       "      <td>복지</td>\n",
       "      <td>아빠 육아휴직 장려금</td>\n",
       "      <td>아빠 육아휴직 장려금   업무개요  남성근로자의 육아휴직을 장려하고 양육에 따른 경...</td>\n",
       "      <td>23522464</td>\n",
       "      <td>1.000000</td>\n",
       "    </tr>\n",
       "    <tr>\n",
       "      <th>1</th>\n",
       "      <td>2644</td>\n",
       "      <td>경제</td>\n",
       "      <td>[서울산업진흥원] 서울메이드란?</td>\n",
       "      <td>서울산업진흥원 서울메이드란 서울의 감성을 담은 다양하고 새로운 경험을 제공하기 위해...</td>\n",
       "      <td>23194045</td>\n",
       "      <td>0.005707</td>\n",
       "    </tr>\n",
       "    <tr>\n",
       "      <th>2</th>\n",
       "      <td>2643</td>\n",
       "      <td>환경</td>\n",
       "      <td>(강북구) 정비중</td>\n",
       "      <td>강북구 정비중  업무개요  투명 폐트병을 교환보상하므로 수거율을 높이고 폐기물을 감...</td>\n",
       "      <td>23032485</td>\n",
       "      <td>0.021952</td>\n",
       "    </tr>\n",
       "    <tr>\n",
       "      <th>3</th>\n",
       "      <td>2642</td>\n",
       "      <td>복지</td>\n",
       "      <td>광진맘택시 운영(임산부,영아 양육가정 전용 택시)</td>\n",
       "      <td>광진맘택시 운영임산부영아 양육가정 전용 택시  업무개요 교통약자인 임산부와 영아가정...</td>\n",
       "      <td>22904492</td>\n",
       "      <td>0.108691</td>\n",
       "    </tr>\n",
       "    <tr>\n",
       "      <th>4</th>\n",
       "      <td>2641</td>\n",
       "      <td>복지</td>\n",
       "      <td>마포 뇌병변장애인 비전센터</td>\n",
       "      <td>마포 뇌병변장애인 비전센터 마포뇌병변장애인 비전센터 운영   구분 내용  목적  학...</td>\n",
       "      <td>22477798</td>\n",
       "      <td>0.033441</td>\n",
       "    </tr>\n",
       "    <tr>\n",
       "      <th>...</th>\n",
       "      <td>...</td>\n",
       "      <td>...</td>\n",
       "      <td>...</td>\n",
       "      <td>...</td>\n",
       "      <td>...</td>\n",
       "      <td>...</td>\n",
       "    </tr>\n",
       "    <tr>\n",
       "      <th>2640</th>\n",
       "      <td>5</td>\n",
       "      <td>주택도시계획</td>\n",
       "      <td>이미 지정된 재정비촉진지구의 인접지를 추가 확장하고 싶은데 어떻게 해야 하나요?</td>\n",
       "      <td>이미 지정된 재정비촉진지구의 인접지를 추가 확장하고 싶은데 어떻게 해야 하나요 관할...</td>\n",
       "      <td>2894353</td>\n",
       "      <td>0.026592</td>\n",
       "    </tr>\n",
       "    <tr>\n",
       "      <th>2641</th>\n",
       "      <td>4</td>\n",
       "      <td>환경</td>\n",
       "      <td>수돗물의 톤당 원가는?</td>\n",
       "      <td>수돗물의 톤당 원가는우리시 년 톤당 원가는 원 입니다 우리시 년 톤당 요금은 원 입니다</td>\n",
       "      <td>19353862</td>\n",
       "      <td>0.000000</td>\n",
       "    </tr>\n",
       "    <tr>\n",
       "      <th>2642</th>\n",
       "      <td>3</td>\n",
       "      <td>복지</td>\n",
       "      <td>출산휴가후 집근처에 안심하고 맡길 수 있는 어린이집이 있는지?</td>\n",
       "      <td>출산휴가후 집근처에 안심하고 맡길 수 있는 어린이집이 있는지   서울시 육아종합지원...</td>\n",
       "      <td>19699584</td>\n",
       "      <td>0.020991</td>\n",
       "    </tr>\n",
       "    <tr>\n",
       "      <th>2643</th>\n",
       "      <td>2</td>\n",
       "      <td>교통</td>\n",
       "      <td>자동차검사장을 지정받고자 하는데 어떻게 해야 하나요?</td>\n",
       "      <td>자동차검사장을 지정받고자 하는데 어떻게 해야 하나요  자동차종합정비업체 소형자동차정...</td>\n",
       "      <td>2898293</td>\n",
       "      <td>0.017092</td>\n",
       "    </tr>\n",
       "    <tr>\n",
       "      <th>2644</th>\n",
       "      <td>1</td>\n",
       "      <td>환경</td>\n",
       "      <td>폐기대상 문서의 폐기는 어떻게 하나요?</td>\n",
       "      <td>폐기대상 문서의 폐기는 어떻게 하나요보존기간이 경과된 문서의 폐기는 정보공개정책과로...</td>\n",
       "      <td>19431143</td>\n",
       "      <td>0.012611</td>\n",
       "    </tr>\n",
       "  </tbody>\n",
       "</table>\n",
       "<p>2645 rows × 6 columns</p>\n",
       "</div>"
      ],
      "text/plain": [
       "        번호      분류                                            제목  \\\n",
       "0     2645      복지                                   아빠 육아휴직 장려금   \n",
       "1     2644      경제                             [서울산업진흥원] 서울메이드란?   \n",
       "2     2643      환경                                     (강북구) 정비중   \n",
       "3     2642      복지                   광진맘택시 운영(임산부,영아 양육가정 전용 택시)   \n",
       "4     2641      복지                                마포 뇌병변장애인 비전센터   \n",
       "...    ...     ...                                           ...   \n",
       "2640     5  주택도시계획  이미 지정된 재정비촉진지구의 인접지를 추가 확장하고 싶은데 어떻게 해야 하나요?   \n",
       "2641     4      환경                                  수돗물의 톤당 원가는?   \n",
       "2642     3      복지            출산휴가후 집근처에 안심하고 맡길 수 있는 어린이집이 있는지?   \n",
       "2643     2      교통                 자동차검사장을 지정받고자 하는데 어떻게 해야 하나요?   \n",
       "2644     1      환경                         폐기대상 문서의 폐기는 어떻게 하나요?   \n",
       "\n",
       "                                                     내용      내용번호       유사도  \n",
       "0     아빠 육아휴직 장려금   업무개요  남성근로자의 육아휴직을 장려하고 양육에 따른 경...  23522464  1.000000  \n",
       "1     서울산업진흥원 서울메이드란 서울의 감성을 담은 다양하고 새로운 경험을 제공하기 위해...  23194045  0.005707  \n",
       "2     강북구 정비중  업무개요  투명 폐트병을 교환보상하므로 수거율을 높이고 폐기물을 감...  23032485  0.021952  \n",
       "3     광진맘택시 운영임산부영아 양육가정 전용 택시  업무개요 교통약자인 임산부와 영아가정...  22904492  0.108691  \n",
       "4     마포 뇌병변장애인 비전센터 마포뇌병변장애인 비전센터 운영   구분 내용  목적  학...  22477798  0.033441  \n",
       "...                                                 ...       ...       ...  \n",
       "2640  이미 지정된 재정비촉진지구의 인접지를 추가 확장하고 싶은데 어떻게 해야 하나요 관할...   2894353  0.026592  \n",
       "2641  수돗물의 톤당 원가는우리시 년 톤당 원가는 원 입니다 우리시 년 톤당 요금은 원 입니다   19353862  0.000000  \n",
       "2642  출산휴가후 집근처에 안심하고 맡길 수 있는 어린이집이 있는지   서울시 육아종합지원...  19699584  0.020991  \n",
       "2643  자동차검사장을 지정받고자 하는데 어떻게 해야 하나요  자동차종합정비업체 소형자동차정...   2898293  0.017092  \n",
       "2644  폐기대상 문서의 폐기는 어떻게 하나요보존기간이 경과된 문서의 폐기는 정보공개정책과로...  19431143  0.012611  \n",
       "\n",
       "[2645 rows x 6 columns]"
      ]
     },
     "execution_count": 12,
     "metadata": {},
     "output_type": "execute_result"
    }
   ],
   "source": [
    "get_data"
   ]
  },
  {
   "cell_type": "code",
   "execution_count": 14,
   "id": "6b9428ac-0e49-4c32-81b5-45cd02e74111",
   "metadata": {},
   "outputs": [
    {
     "data": {
      "text/html": [
       "<div>\n",
       "<style scoped>\n",
       "    .dataframe tbody tr th:only-of-type {\n",
       "        vertical-align: middle;\n",
       "    }\n",
       "\n",
       "    .dataframe tbody tr th {\n",
       "        vertical-align: top;\n",
       "    }\n",
       "\n",
       "    .dataframe thead th {\n",
       "        text-align: right;\n",
       "    }\n",
       "</style>\n",
       "<table border=\"1\" class=\"dataframe\">\n",
       "  <thead>\n",
       "    <tr style=\"text-align: right;\">\n",
       "      <th></th>\n",
       "      <th>번호</th>\n",
       "      <th>분류</th>\n",
       "      <th>제목</th>\n",
       "      <th>내용</th>\n",
       "      <th>내용번호</th>\n",
       "      <th>유사도</th>\n",
       "    </tr>\n",
       "  </thead>\n",
       "  <tbody>\n",
       "    <tr>\n",
       "      <th>0</th>\n",
       "      <td>2645</td>\n",
       "      <td>복지</td>\n",
       "      <td>아빠 육아휴직 장려금</td>\n",
       "      <td>아빠 육아휴직 장려금   업무개요  남성근로자의 육아휴직을 장려하고 양육에 따른 경...</td>\n",
       "      <td>23522464</td>\n",
       "      <td>1.000000</td>\n",
       "    </tr>\n",
       "    <tr>\n",
       "      <th>1386</th>\n",
       "      <td>1259</td>\n",
       "      <td>행정</td>\n",
       "      <td>육아휴직수당은 얼마인가요?</td>\n",
       "      <td>육아휴직수당은 얼마인가요자녀을 양육하기 위하여 일 이상 휴직한 남녀공무원이 대상이며...</td>\n",
       "      <td>2896657</td>\n",
       "      <td>0.259316</td>\n",
       "    </tr>\n",
       "    <tr>\n",
       "      <th>72</th>\n",
       "      <td>2573</td>\n",
       "      <td>복지</td>\n",
       "      <td>아이조아 아빠교실, 아이조아 놀이교실</td>\n",
       "      <td>아이조아 아빠교실 아이조아 놀이교실           업무개요   다양한 교육과 체...</td>\n",
       "      <td>4369620</td>\n",
       "      <td>0.155758</td>\n",
       "    </tr>\n",
       "    <tr>\n",
       "      <th>35</th>\n",
       "      <td>2610</td>\n",
       "      <td>행정</td>\n",
       "      <td>[시ㆍ구정외 타기관 관련 상담] 고용노동부 [일자리 안정자금]</td>\n",
       "      <td>시구정외 타기관 관련 상담 고용노동부 일자리 안정자금 최저임금 해결사 일자리 안정자...</td>\n",
       "      <td>14425328</td>\n",
       "      <td>0.133478</td>\n",
       "    </tr>\n",
       "    <tr>\n",
       "      <th>914</th>\n",
       "      <td>1731</td>\n",
       "      <td>복지</td>\n",
       "      <td>한우리정보문화센터에 관해서 알고 싶습니다</td>\n",
       "      <td>한우리정보문화센터에 관해서 알고 싶습니다ㅎ 서초구에서 운영하는 장애인 복지관  홈페...</td>\n",
       "      <td>2895013</td>\n",
       "      <td>0.133133</td>\n",
       "    </tr>\n",
       "  </tbody>\n",
       "</table>\n",
       "</div>"
      ],
      "text/plain": [
       "        번호  분류                                  제목  \\\n",
       "0     2645  복지                         아빠 육아휴직 장려금   \n",
       "1386  1259  행정                      육아휴직수당은 얼마인가요?   \n",
       "72    2573  복지                아이조아 아빠교실, 아이조아 놀이교실   \n",
       "35    2610  행정  [시ㆍ구정외 타기관 관련 상담] 고용노동부 [일자리 안정자금]   \n",
       "914   1731  복지              한우리정보문화센터에 관해서 알고 싶습니다   \n",
       "\n",
       "                                                     내용      내용번호       유사도  \n",
       "0     아빠 육아휴직 장려금   업무개요  남성근로자의 육아휴직을 장려하고 양육에 따른 경...  23522464  1.000000  \n",
       "1386  육아휴직수당은 얼마인가요자녀을 양육하기 위하여 일 이상 휴직한 남녀공무원이 대상이며...   2896657  0.259316  \n",
       "72    아이조아 아빠교실 아이조아 놀이교실           업무개요   다양한 교육과 체...   4369620  0.155758  \n",
       "35    시구정외 타기관 관련 상담 고용노동부 일자리 안정자금 최저임금 해결사 일자리 안정자...  14425328  0.133478  \n",
       "914   한우리정보문화센터에 관해서 알고 싶습니다ㅎ 서초구에서 운영하는 장애인 복지관  홈페...   2895013  0.133133  "
      ]
     },
     "execution_count": 14,
     "metadata": {},
     "output_type": "execute_result"
    }
   ],
   "source": [
    "get_data.sort_values(by=['유사도'], ascending=False)[:5]"
   ]
  }
 ],
 "metadata": {
  "kernelspec": {
   "display_name": "Python 3 (ipykernel)",
   "language": "python",
   "name": "python3"
  },
  "language_info": {
   "codemirror_mode": {
    "name": "ipython",
    "version": 3
   },
   "file_extension": ".py",
   "mimetype": "text/x-python",
   "name": "python",
   "nbconvert_exporter": "python",
   "pygments_lexer": "ipython3",
   "version": "3.11.8"
  }
 },
 "nbformat": 4,
 "nbformat_minor": 5
}
